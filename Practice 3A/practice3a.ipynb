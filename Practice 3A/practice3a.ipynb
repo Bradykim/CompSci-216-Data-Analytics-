{
 "cells": [
  {
   "cell_type": "markdown",
   "metadata": {},
   "source": [
    "# 3A: Practice"
   ]
  },
  {
   "cell_type": "markdown",
   "metadata": {},
   "source": [
    "In this exercise, you will practice wrangling data through different formats, with missing data, and working with text."
   ]
  },
  {
   "cell_type": "markdown",
   "metadata": {},
   "source": [
    "## Part 1: Text wrangling and regular expressions "
   ]
  },
  {
   "cell_type": "markdown",
   "metadata": {},
   "source": [
    "### Question 1\n",
    "Below we import the `text.txt` file as a string called `text` and preview the first 1,000 characters. Note that the text has no capitalization at the beginning of sentences."
   ]
  },
  {
   "cell_type": "code",
   "execution_count": 3,
   "metadata": {},
   "outputs": [
    {
     "name": "stdout",
     "output_type": "stream",
     "text": [
      "it was the best of times, it was the worst of times, it was the age of wisdom, it was the age of foolishness, it was the epoch of belief, it was the epoch of incredulity, it was the season of light, it was the season of darkness, it was the spring of hope, it was the winter of despair, we had everything before us, we had nothing before us, we were all going direct to heaven, we were all going direct the other way- in short, the period was so far like the present period, that some of its noisiest authorities insisted on its being received, for good or for evil, in the superlative degree of comparison only. there were a king with a large jaw and a queen with a plain face, on the throne of england; there were a king with a large jaw and a queen with a fair face, on the throne of france. in both countries it was clearer than crystal to the lords of the state preserves of loaves and fishes, that things in general were settled for ever. it was the year of our lord one thousand seven hundred \n"
     ]
    }
   ],
   "source": [
    "# Run but do not modify this code\n",
    "with open(\"text.txt\") as f:\n",
    "    text = f.read()\n",
    "\n",
    "print(text[:1000])"
   ]
  },
  {
   "cell_type": "markdown",
   "metadata": {
    "editable": false
   },
   "source": [
    "Capitalize the first letter of each sentence (e.g., \"it was the best...\" should become \"It was the best...\"). To do so, split the sentences (you may assume sentences are ended with the a period `.` followed by a blank space), capitalize the first letter of each sentence, and then join the results.\n",
    "\n",
    "Put your result in the variable `q1`.\n",
    "\n",
    "<!--\n",
    "BEGIN QUESTION\n",
    "name: q1\n",
    "manual: false\n",
    "points:\n",
    "    - 1\n",
    "    - 1\n",
    "-->"
   ]
  },
  {
   "cell_type": "code",
   "execution_count": 4,
   "metadata": {},
   "outputs": [
    {
     "name": "stdout",
     "output_type": "stream",
     "text": [
      "It was the best of times, it was the worst of times, it was the age of wisdom, it was the age of foolishness, it was the epoch of belief, it was the epoch of incredulity, it was the season of light, it was the season of darkness, it was the spring of hope, it was the winter of despair, we had everything before us, we had nothing before us, we were all going direct to heaven, we were all going direct the other way- in short, the period was so far like the present period, that some of its noisiest authorities insisted on its being received, for good or for evil, in the superlative degree of comparison only. There were a king with a large jaw and a queen with a plain face, on the throne of england; there were a king with a large jaw and a queen with a fair face, on the throne of france. In both countries it was clearer than crystal to the lords of the state preserves of loaves and fishes, that things in general were settled for ever. It was the year of our lord one thousand seven hundred and seventy-five. Spiritual revelations were conceded to england at that favoured period, as at this. Mrs. Southcott had recently attained her five-and-twentieth blessed birthday, of whom a prophetic private in the life guards had heralded the sublime appearance by announcing that arrangements were made for the swallowing up of london and westminster. Even the cock-lane ghost had been laid only a round dozen of years, after rapping out its messages, as the spirits of this very year last past (supernaturally deficient in originality) rapped out theirs. Mere messages in the earthly order of events had lately come to the english crown and people, from a congress of british subjects in america: which, strange to relate, have proved more important to the human race than any communications yet received through any of the chickens of the cock-lane brood. France, less favoured on the whole as to matters spiritual than her sister of the shield and trident, rolled with exceeding smoothness down hill, making paper money and spending it. Under the guidance of her christian pastors, she entertained herself, besides, with such humane achievements as sentencing a youth to have his hands cut off, his tongue torn out with pincers, and his body burned alive, because he had not kneeled down in the rain to do honour to a dirty procession of monks which passed within his view, at a distance of some fifty or sixty yards. It is likely enough that, rooted in the woods of france and norway, there were growing trees, when that sufferer was put to death, already marked by the woodman, fate, to come down and be sawn into boards, to make a certain movable framework with a sack and a knife in it, terrible in history. It is likely enough that in the rough outhouses of some tillers of the heavy lands adjacent to paris, there were sheltered from the weather that very day, rude carts, bespattered with rustic mire, snuffed about by pigs, and roosted in by poultry, which the farmer, death, had already set apart to be his tumbrils of the revolution. But that woodman and that farmer, though they work unceasingly, work silently, and no one heard them as they went about with muffled tread: the rather, forasmuch as to entertain any suspicion that they were awake, was to be atheistical and traitorous. In england, there was scarcely an amount of order and protection to justify much national boasting. Daring burglaries by armed men, and highway robberies, took place in the capital itself every night; families were publicly cautioned not to go out of town without removing their furniture to upholsterers' warehouses for security; the highwayman in the dark was a city tradesman in the light, and, being recognised and challenged by his fellow-tradesman whom he stopped in his character of the captain, gallantly shot him through the head and rode away; the mail was waylaid by seven robbers, and the guard shot three dead, and then got shot dead himself by the other four, in consequence of the failure of his ammunition: after which the mail was robbed in peace; that magnificent potentate, the lord mayor of london, was made to stand and deliver on turnham green, by one highwayman, who despoiled the illustrious creature in sight of all his retinue; prisoners in london gaols fought battles with their turnkeys, and the majesty of the law fired blunderbusses in among them, loaded with rounds of shot and ball; thieves snipped off diamond crosses from the necks of noble lords at court drawing-rooms; musketeers went into st. Giles's, to search for contraband goods, and the mob fired on the musketeers, and the musketeers fired on the mob, and nobody thought any of these occurrences much out of the common way. In the midst of them, the hangman, ever busy and ever worse than useless, was in constant requisition; now, stringing up long rows of miscellaneous criminals; now, hanging a housebreaker on saturday who had been taken on tuesday; now, burning people in the hand at newgate by the dozen, and now burning pamphlets at the door of westminster hall; to-day, taking the life of an atrocious murderer, and to-morrow of a wretched pilferer who had robbed a farmer's boy of sixpence. All these things, and a thousand like them, came to pass in and close upon the dear old year one thousand seven hundred and seventy-five. Environed by them, while the woodman and the farmer worked unheeded, those two of the large jaws, and those other two of the plain and the fair faces, trod with stir enough, and carried their divine rights with a high hand. Thus did the year one thousand seven hundred and seventy-five conduct their greatnesses, and myriads of small creatures-the creatures of this chronicle among the rest-along the roads that lay before them.\n"
     ]
    }
   ],
   "source": [
    "# Put your code to answer the question here\n",
    "# Please store your answer as the givin variable\n",
    "listnew = text.split('. ')\n",
    "listnew2 = [sentence.capitalize() for sentence in listnew]\n",
    "\n",
    "q1 = \". \".join(listnew2)\n",
    "print(q1)\n"
   ]
  },
  {
   "cell_type": "markdown",
   "metadata": {},
   "source": [
    "### Question 2\n",
    "Below we import the `corrupted_text.txt` file, a messed up version of `text.txt`, and print the first 1,000 characters."
   ]
  },
  {
   "cell_type": "code",
   "execution_count": 5,
   "metadata": {},
   "outputs": [
    {
     "name": "stdout",
     "output_type": "stream",
     "text": [
      "it was the best of times$ it was the worst of times$####                           it was the age of wisdom$ it was the age of foolishness$ it was the epoch of belief$ it was the epoch of incredulity$ it was the season of light$ it was the season of darkness$ it was the spring of hope$ it was the winter of despair$####                  we had everything before us$####          we had nothing before us$ we were all going direct to heaven$ we were all going direct the other way- in short$ the period was so far like the present period$ that some of its noisiest authorities insisted on its being received$ for good or for evil$ in the superlative degree of comparison only$\\n\\n there were a king with a large jaw and a queen with a plain face$ on the throne of england; there were a king with a large jaw and a queen with a fair face$ on the throne of france$\\n\\n in both countries it was clearer than crystal to the lords of the state preserves of loaves and fishes$ that things in general were s\n"
     ]
    }
   ],
   "source": [
    "# Run but do not modify this code\n",
    "with open(\"corrupted_text.txt\") as f:\n",
    "    ctext = f.read()\n",
    "\n",
    "print(ctext[:1000])"
   ]
  },
  {
   "cell_type": "markdown",
   "metadata": {
    "editable": false
   },
   "source": [
    "Fix the following problems to recover the original text that appeared in `text.txt`.\n",
    "\n",
    "1. Every comma `,` has been replaced by `$`. Sometimes, but not always, this is followed by `####`. When it is followed by `####`, there are different numbers of blank spaces after the `####`.\n",
    "2. Every period `.` has been replaced by `$\\n\\n`.\n",
    "\n",
    "When you are finished, if you print the first 1,000 characters, you should see the same text as in `text.txt` above (except without the capitalization you worked on in the previous problem).\n",
    "\n",
    "Put your result in the variable `q2`.\n",
    "\n",
    "Note: It may be helpful to recall that `\\` is an escape character for Python strings, so for example, while calling `print(\"\\n\")` will simply print a blank newline character, calling `print(\"\\\\n\")` will \"escape\" the usual meaning of the second backslash and print `\\n`.\n",
    "\n",
    "<!--\n",
    "BEGIN QUESTION\n",
    "name: q2\n",
    "manual: false\n",
    "points:\n",
    "    - 0.4\n",
    "    - 0.4\n",
    "    - 0.4\n",
    "    - 0.4\n",
    "    - 0.4\n",
    "-->"
   ]
  },
  {
   "cell_type": "code",
   "execution_count": 6,
   "metadata": {},
   "outputs": [],
   "source": [
    "import numpy as np\n",
    "import re\n",
    "# Put your code to answer the question here\n",
    "# Please store your answer as the givin variable\n",
    "newsentences = ctext.split(\"$\\\\n\\\\n\")\n",
    "newsentences2 = [sentence.replace('$',',') for sentence in newsentences]\n",
    "newsentences3 = '.'.join(newsentences2).split(',')\n",
    "newsentences3 = [sentence.lstrip('# ') for sentence in newsentences3]\n",
    "final = \", \".join(newsentences3)\n",
    "q2 = final\n"
   ]
  },
  {
   "cell_type": "markdown",
   "metadata": {},
   "source": [
    "### Question 3\n",
    "Below, we again import the `text.txt` file as a new string variable `ftext` (for \"fresh\" text if that helps)."
   ]
  },
  {
   "cell_type": "code",
   "execution_count": 7,
   "metadata": {},
   "outputs": [],
   "source": [
    "# Run but do not modify this code\n",
    "import re # Regular expression library\n",
    "with open(\"text.txt\") as f:\n",
    "    ftext = f.read()"
   ]
  },
  {
   "cell_type": "markdown",
   "metadata": {
    "editable": false
   },
   "source": [
    "Write regular expressions and use the Python `re` module [documentation](https://docs.python.org/3/library/re.html) to answer the following questions about the file. You may assume that all characters are lowercase. You can print your answers directly from code (as long as they are clearly labeled) or you can write them in the markdown cell below.\n",
    "\n",
    "1. How many times do two vowels (a, e, i, o, and u) appear consecutively in `text`? When three vowels occur consecutively (such as in \"queen\") you only need to count once, (for example, in \"queen\" you do not need to worry about the overlap between \"ue\" and \"ee\", just count once). \n",
    "2. Find all of the hyphenated words in `text` (that is, the words with a hyphen character `-` in the middle and no spaces between the hyphen and the characters on either side). \n",
    "3. Find the first word that appears after each period character `.` in the text. Do not include the period itself or the space that follows it. They should all be lower case from the `ftext`.\n",
    "4. Find the starting index of every word `she` or `he`. Do not include words that enclose these such as `the` or `fishes` (Hint: It appears only 3 times).\n",
    "\n",
    "Put question 1's answer in the variable `q3_1`, question 2's answer in `q3_2`, and so on.\n",
    "\n",
    "<!--\n",
    "BEGIN QUESTION\n",
    "name: q3\n",
    "manual: false\n",
    "points:\n",
    "    - 2\n",
    "    - 2\n",
    "    - 2\n",
    "    - 2\n",
    "-->"
   ]
  },
  {
   "cell_type": "code",
   "execution_count": 8,
   "metadata": {},
   "outputs": [
    {
     "name": "stdout",
     "output_type": "stream",
     "text": [
      "['there', 'in', 'it', 'spiritual', 'mrs', 'southcott', 'even', 'mere', 'france', 'under', 'it', 'it', 'but', 'in', 'daring', 'giles', 'in', 'all', 'environed', 'thus']\n"
     ]
    }
   ],
   "source": [
    "# Put your code to answer the question here\n",
    "# Please store the answer for each questions as following variables\n",
    "\n",
    "q3_1 = len(re.findall(re.compile(r\"[AEIOUaeiou]+[AEIOUaeiou]+\"),ftext))\n",
    "q3_2 = re.findall(re.compile(r\"\\w+(?:-)\\w+\"),ftext)\n",
    "q3_3 = re.findall(re.compile(r\"(?:[.!?]\\s)(\\w+)\"),ftext)\n",
    "q3_4 = [m.start(0)+1 for m in re.finditer(re.compile(r\"( +he +)|( +she +)\"),ftext)] \n",
    "\n",
    "print(q3_3)"
   ]
  },
  {
   "cell_type": "markdown",
   "metadata": {},
   "source": [
    "## Part 2: Cleaning up system logs CSV\n",
    "In this part we work with a piece of messy tabular data in the form of a poorly formatted csv file containing data about programs running on computer systems. "
   ]
  },
  {
   "cell_type": "markdown",
   "metadata": {},
   "source": [
    "### Question 4\n",
    "Below, we import the dataset using the Pandas `read_csv` function that creates a dataframe. Run the code; it will preview the first five rows. There are several formatting issues with the default import."
   ]
  },
  {
   "cell_type": "code",
   "execution_count": 9,
   "metadata": {},
   "outputs": [
    {
     "data": {
      "text/html": [
       "<div>\n",
       "<style scoped>\n",
       "    .dataframe tbody tr th:only-of-type {\n",
       "        vertical-align: middle;\n",
       "    }\n",
       "\n",
       "    .dataframe tbody tr th {\n",
       "        vertical-align: top;\n",
       "    }\n",
       "\n",
       "    .dataframe thead th {\n",
       "        text-align: right;\n",
       "    }\n",
       "</style>\n",
       "<table border=\"1\" class=\"dataframe\">\n",
       "  <thead>\n",
       "    <tr style=\"text-align: right;\">\n",
       "      <th></th>\n",
       "      <th>0</th>\n",
       "      <th>System Time: 23 second</th>\n",
       "      <th>System Mem: 3 Gb</th>\n",
       "      <th>414 Mb</th>\n",
       "      <th></th>\n",
       "    </tr>\n",
       "  </thead>\n",
       "  <tbody>\n",
       "    <tr>\n",
       "      <th>0</th>\n",
       "      <td>1</td>\n",
       "      <td>System Time: 40 second</td>\n",
       "      <td>System Mem: 3 Gb</td>\n",
       "      <td>382 Mb</td>\n",
       "      <td></td>\n",
       "    </tr>\n",
       "    <tr>\n",
       "      <th>1</th>\n",
       "      <td>2</td>\n",
       "      <td>System Time: 43 second</td>\n",
       "      <td>System Mem: 2 Gb</td>\n",
       "      <td>271 Mb</td>\n",
       "      <td></td>\n",
       "    </tr>\n",
       "    <tr>\n",
       "      <th>2</th>\n",
       "      <td>3</td>\n",
       "      <td>System Time: 31 second</td>\n",
       "      <td>System Mem: 3 Gb</td>\n",
       "      <td>493 Mb</td>\n",
       "      <td></td>\n",
       "    </tr>\n",
       "    <tr>\n",
       "      <th>3</th>\n",
       "      <td>4</td>\n",
       "      <td>System Time: 37 second</td>\n",
       "      <td>System Mem: 3 Gb</td>\n",
       "      <td>411 Mb</td>\n",
       "      <td></td>\n",
       "    </tr>\n",
       "    <tr>\n",
       "      <th>4</th>\n",
       "      <td>5</td>\n",
       "      <td>System Time: 36 second</td>\n",
       "      <td>System Mem: 2 Gb</td>\n",
       "      <td>266 Mb</td>\n",
       "      <td></td>\n",
       "    </tr>\n",
       "  </tbody>\n",
       "</table>\n",
       "</div>"
      ],
      "text/plain": [
       "   0  System Time: 23 second   System Mem: 3 Gb  414 Mb   \n",
       "0  1  System Time: 40 second   System Mem: 3 Gb  382 Mb   \n",
       "1  2  System Time: 43 second   System Mem: 2 Gb  271 Mb   \n",
       "2  3  System Time: 31 second   System Mem: 3 Gb  493 Mb   \n",
       "3  4  System Time: 37 second   System Mem: 3 Gb  411 Mb   \n",
       "4  5  System Time: 36 second   System Mem: 2 Gb  266 Mb   "
      ]
     },
     "execution_count": 9,
     "metadata": {},
     "output_type": "execute_result"
    }
   ],
   "source": [
    "# Run but do not modify this code\n",
    "import pandas as pd\n",
    "sys_df = pd.read_csv(\"monitor.csv\")\n",
    "sys_df.head()"
   ]
  },
  {
   "cell_type": "markdown",
   "metadata": {
    "editable": false
   },
   "source": [
    "Address the following, either by changing the `read_csv` statement or by modifying the imported dataframe.\n",
    "\n",
    "1. The rows are already numbered with an integer index, but that is being duplicated so that we see a primary index for the dataframe and separately a column containing integer indices. Fix this so that there is just a single integer index as the primary index of the dataframe (bolded).\n",
    "\n",
    "2. There are commas at the end of every row causing the dataframe to add a blank extra column at the right. Get rid of this column.\n",
    "\n",
    "3. The file did not have column labels, so currently the first row is being incorrectly interpreted as the bolded column labels. Fix the code so that the column labels (from left to right) are `System Time second`, `System Memory GB`, and `System Memory MB`.\n",
    "\n",
    "\n",
    "When you are finished, `sys_df` should have the above issues correct. Assign the variable `q4` with the same value as `sys_df`.\n",
    "\n",
    "<!--\n",
    "BEGIN QUESTION\n",
    "name: q4\n",
    "manual: false\n",
    "points:\n",
    "    - 1\n",
    "    - 1\n",
    "    - 1\n",
    "    - 1\n",
    "    - 2\n",
    "-->"
   ]
  },
  {
   "cell_type": "code",
   "execution_count": 10,
   "metadata": {},
   "outputs": [],
   "source": [
    "# Put your code to answer the question here\n",
    "rows = pd.DataFrame({'System Time second': 'System Time: 23 second', \"System Memory GB\": \"System Mem: 3 Gb\", \"System Memory MB\":\"414 Md\"},\n",
    "                   index =[0])\n",
    "sys_df = sys_df.iloc[:, 1:4]\n",
    "sys_df.columns = [\"System Time second\", \"System Memory GB\", \"System Memory MB\"]\n",
    "\n",
    "sys_df = pd.concat([rows, sys_df], sort =False).reset_index(drop = True)\n",
    "\n",
    "\n",
    "\n",
    "# Do not change this cell, it needs to run for the autograder to test properly\n",
    "q4 = sys_df.copy()\n",
    "\n"
   ]
  },
  {
   "cell_type": "markdown",
   "metadata": {
    "editable": false
   },
   "source": [
    "### Question 5\n",
    "The `sys_df` dataframe from question 3 should now be a little easier to read and use, but there are some strange things we would like to fix about the formatting of the data. When you are finished, `sys_df` assign the variable `q5_1` with the same value as `sys_df`.\n",
    "\n",
    "1. The three features or columns all contain numeric data (seconds, GB, and MB) but are currently formatted as Strings with redundant information also contained in the column names. Fix the dataframe so that each value is just an integer. Note that the rows at index `400` and on have System Time recorded in minutes instead of seconds, be sure to convert these to seconds by multiplying by 60.\n",
    "\n",
    "2. Currently the System Memory is split accross two columns, one for the GB and one for the MB. For example, the total memory of the first program is 3 GB and 414 MB. Instead, represent the full system memory in the `System Memory MB` column, and get rid of the `System Memory GB` column. To do so, you need to convert the values in the GB column to MB (1 GB is 1000 MB) and add that to the MB column, then use the [`drop` method](https://pandas.pydata.org/pandas-docs/stable/reference/api/pandas.DataFrame.drop.html) to remove the GB column.\n",
    "\n",
    "3. Now that you have dealt with the above, it should be easy to provide some basic statistics about the data. Report the mean time in seconds in the variable `q5_2` and mean memory in MB of the programs in the variable `q5_3`.\n",
    "\n",
    "<!--\n",
    "BEGIN QUESTION\n",
    "name: q5\n",
    "manual: false\n",
    "points:\n",
    "    - 1\n",
    "    - 1\n",
    "    - 1\n",
    "    - 1\n",
    "    - 0.5\n",
    "    - 0.5\n",
    "    - 0.5\n",
    "    - 0.5\n",
    "-->"
   ]
  },
  {
   "cell_type": "code",
   "execution_count": 11,
   "metadata": {},
   "outputs": [
    {
     "name": "stderr",
     "output_type": "stream",
     "text": [
      "<ipython-input-11-8b7bd0474092>:8: SettingWithCopyWarning: \n",
      "A value is trying to be set on a copy of a slice from a DataFrame\n",
      "\n",
      "See the caveats in the documentation: https://pandas.pydata.org/pandas-docs/stable/user_guide/indexing.html#returning-a-view-versus-a-copy\n",
      "  sys_df[\"System Time second\"][400:] = sys_df[\"System Time second\"][400:]*60\n",
      "C:\\Users\\brady\\anaconda3\\lib\\site-packages\\pandas\\core\\indexing.py:670: SettingWithCopyWarning: \n",
      "A value is trying to be set on a copy of a slice from a DataFrame\n",
      "\n",
      "See the caveats in the documentation: https://pandas.pydata.org/pandas-docs/stable/user_guide/indexing.html#returning-a-view-versus-a-copy\n",
      "  iloc._setitem_with_indexer(indexer, value)\n"
     ]
    }
   ],
   "source": [
    "# Put your code to answer the question here\n",
    "\n",
    "#System Time Second\n",
    "sys_df[\"System Time second\"]= sys_df[\"System Time second\"].str.extract(\"(\\d*\\.?\\d+)\")\n",
    "sys_df[\"System Time second\"]= pd.to_numeric(sys_df[\"System Time second\"])\n",
    "\n",
    "#Convert Time Second\n",
    "sys_df[\"System Time second\"][400:] = sys_df[\"System Time second\"][400:]*60\n",
    "\n",
    "#System Memory GB\n",
    "sys_df[\"System Memory GB\"]= sys_df[\"System Memory GB\"].str.extract(\"(\\d*\\.?\\d+)\")\n",
    "sys_df[\"System Memory GB\"]= pd.to_numeric(sys_df[\"System Memory GB\"])\n",
    "\n",
    "#System Memory MB\n",
    "sys_df[\"System Memory MB\"]= sys_df[\"System Memory MB\"].str.extract(\"(\\d*\\.?\\d+)\")\n",
    "sys_df[\"System Memory MB\"]= pd.to_numeric(sys_df[\"System Memory MB\"])\n",
    "\n",
    "#Convert to MB\n",
    "sys_df[\"System Memory MB\"]= sys_df[\"System Memory MB\"] + sys_df[\"System Memory GB\"]*1000\n",
    "sys_df.drop(\"System Memory GB\", inplace = True, axis =1 )\n",
    "\n",
    "\n",
    "q5_1 = sys_df # q5_1 = sys_df, after the manipulation\n",
    "q5_2 = sys_df[\"System Time second\"].mean() # the mean time in seconds\n",
    "q5_3 = sys_df[\"System Memory MB\"].mean() # the mean memory in GB\n",
    "\n",
    "\n",
    "\n",
    "# Do not change this cell, it needs to run for the autograder to test properly\n",
    "q5_1 = sys_df"
   ]
  },
  {
   "cell_type": "markdown",
   "metadata": {},
   "source": [
    "## Part 3: Wrangling FDA JSON Dataset \n",
    "In this part we work with a messy JSON dataset containing information about several drugs labels."
   ]
  },
  {
   "cell_type": "markdown",
   "metadata": {},
   "source": [
    "### Question 6\n",
    "Below we import the `FDADrugLabel.json` file into the `labels` variable.\n",
    "\n",
    "The resulting Python object is somewhat messy; we encourage you to explore the data before answering the questions. For example, rather than just printing out `labels` check it's type, print only one element, and remember there are different [dictionary functions](https://docs.python.org/3/library/stdtypes.html#typesmapping) you could use. Feel free to add your own cells as you explore."
   ]
  },
  {
   "cell_type": "code",
   "execution_count": 12,
   "metadata": {},
   "outputs": [
    {
     "ename": "UnicodeDecodeError",
     "evalue": "'charmap' codec can't decode byte 0x9d in position 24586: character maps to <undefined>",
     "output_type": "error",
     "traceback": [
      "\u001b[1;31m---------------------------------------------------------------------------\u001b[0m",
      "\u001b[1;31mUnicodeDecodeError\u001b[0m                        Traceback (most recent call last)",
      "\u001b[1;32m<ipython-input-12-3fd5c48c3a44>\u001b[0m in \u001b[0;36m<module>\u001b[1;34m\u001b[0m\n\u001b[0;32m      2\u001b[0m \u001b[1;32mimport\u001b[0m \u001b[0mjson\u001b[0m\u001b[1;33m\u001b[0m\u001b[1;33m\u001b[0m\u001b[0m\n\u001b[0;32m      3\u001b[0m \u001b[1;32mwith\u001b[0m \u001b[0mopen\u001b[0m\u001b[1;33m(\u001b[0m\u001b[1;34m\"FDADrugLabel.json\"\u001b[0m\u001b[1;33m)\u001b[0m \u001b[1;32mas\u001b[0m \u001b[0mf\u001b[0m\u001b[1;33m:\u001b[0m\u001b[1;33m\u001b[0m\u001b[1;33m\u001b[0m\u001b[0m\n\u001b[1;32m----> 4\u001b[1;33m     \u001b[0mlabels\u001b[0m \u001b[1;33m=\u001b[0m \u001b[0mjson\u001b[0m\u001b[1;33m.\u001b[0m\u001b[0mload\u001b[0m\u001b[1;33m(\u001b[0m\u001b[0mf\u001b[0m\u001b[1;33m)\u001b[0m\u001b[1;33m\u001b[0m\u001b[1;33m\u001b[0m\u001b[0m\n\u001b[0m",
      "\u001b[1;32m~\\anaconda3\\lib\\json\\__init__.py\u001b[0m in \u001b[0;36mload\u001b[1;34m(fp, cls, object_hook, parse_float, parse_int, parse_constant, object_pairs_hook, **kw)\u001b[0m\n\u001b[0;32m    291\u001b[0m     \u001b[0mkwarg\u001b[0m\u001b[1;33m;\u001b[0m \u001b[0motherwise\u001b[0m\u001b[0;31m \u001b[0m\u001b[0;31m`\u001b[0m\u001b[0;31m`\u001b[0m\u001b[0mJSONDecoder\u001b[0m\u001b[0;31m`\u001b[0m\u001b[0;31m`\u001b[0m \u001b[1;32mis\u001b[0m \u001b[0mused\u001b[0m\u001b[1;33m.\u001b[0m\u001b[1;33m\u001b[0m\u001b[1;33m\u001b[0m\u001b[0m\n\u001b[0;32m    292\u001b[0m     \"\"\"\n\u001b[1;32m--> 293\u001b[1;33m     return loads(fp.read(),\n\u001b[0m\u001b[0;32m    294\u001b[0m         \u001b[0mcls\u001b[0m\u001b[1;33m=\u001b[0m\u001b[0mcls\u001b[0m\u001b[1;33m,\u001b[0m \u001b[0mobject_hook\u001b[0m\u001b[1;33m=\u001b[0m\u001b[0mobject_hook\u001b[0m\u001b[1;33m,\u001b[0m\u001b[1;33m\u001b[0m\u001b[1;33m\u001b[0m\u001b[0m\n\u001b[0;32m    295\u001b[0m         \u001b[0mparse_float\u001b[0m\u001b[1;33m=\u001b[0m\u001b[0mparse_float\u001b[0m\u001b[1;33m,\u001b[0m \u001b[0mparse_int\u001b[0m\u001b[1;33m=\u001b[0m\u001b[0mparse_int\u001b[0m\u001b[1;33m,\u001b[0m\u001b[1;33m\u001b[0m\u001b[1;33m\u001b[0m\u001b[0m\n",
      "\u001b[1;32m~\\anaconda3\\lib\\encodings\\cp1252.py\u001b[0m in \u001b[0;36mdecode\u001b[1;34m(self, input, final)\u001b[0m\n\u001b[0;32m     21\u001b[0m \u001b[1;32mclass\u001b[0m \u001b[0mIncrementalDecoder\u001b[0m\u001b[1;33m(\u001b[0m\u001b[0mcodecs\u001b[0m\u001b[1;33m.\u001b[0m\u001b[0mIncrementalDecoder\u001b[0m\u001b[1;33m)\u001b[0m\u001b[1;33m:\u001b[0m\u001b[1;33m\u001b[0m\u001b[1;33m\u001b[0m\u001b[0m\n\u001b[0;32m     22\u001b[0m     \u001b[1;32mdef\u001b[0m \u001b[0mdecode\u001b[0m\u001b[1;33m(\u001b[0m\u001b[0mself\u001b[0m\u001b[1;33m,\u001b[0m \u001b[0minput\u001b[0m\u001b[1;33m,\u001b[0m \u001b[0mfinal\u001b[0m\u001b[1;33m=\u001b[0m\u001b[1;32mFalse\u001b[0m\u001b[1;33m)\u001b[0m\u001b[1;33m:\u001b[0m\u001b[1;33m\u001b[0m\u001b[1;33m\u001b[0m\u001b[0m\n\u001b[1;32m---> 23\u001b[1;33m         \u001b[1;32mreturn\u001b[0m \u001b[0mcodecs\u001b[0m\u001b[1;33m.\u001b[0m\u001b[0mcharmap_decode\u001b[0m\u001b[1;33m(\u001b[0m\u001b[0minput\u001b[0m\u001b[1;33m,\u001b[0m\u001b[0mself\u001b[0m\u001b[1;33m.\u001b[0m\u001b[0merrors\u001b[0m\u001b[1;33m,\u001b[0m\u001b[0mdecoding_table\u001b[0m\u001b[1;33m)\u001b[0m\u001b[1;33m[\u001b[0m\u001b[1;36m0\u001b[0m\u001b[1;33m]\u001b[0m\u001b[1;33m\u001b[0m\u001b[1;33m\u001b[0m\u001b[0m\n\u001b[0m\u001b[0;32m     24\u001b[0m \u001b[1;33m\u001b[0m\u001b[0m\n\u001b[0;32m     25\u001b[0m \u001b[1;32mclass\u001b[0m \u001b[0mStreamWriter\u001b[0m\u001b[1;33m(\u001b[0m\u001b[0mCodec\u001b[0m\u001b[1;33m,\u001b[0m\u001b[0mcodecs\u001b[0m\u001b[1;33m.\u001b[0m\u001b[0mStreamWriter\u001b[0m\u001b[1;33m)\u001b[0m\u001b[1;33m:\u001b[0m\u001b[1;33m\u001b[0m\u001b[1;33m\u001b[0m\u001b[0m\n",
      "\u001b[1;31mUnicodeDecodeError\u001b[0m: 'charmap' codec can't decode byte 0x9d in position 24586: character maps to <undefined>"
     ]
    }
   ],
   "source": [
    "# Run but do not modify this code\n",
    "import json\n",
    "with open(\"FDADrugLabel.json\") as f:\n",
    "    labels = json.load(f)\n"
   ]
  },
  {
   "cell_type": "markdown",
   "metadata": {
    "editable": false
   },
   "source": [
    "Answer the following questions. Put question 1's answer in the variable `q6_1`, question 2's answer in `q6_2`, and so on.\n",
    "\n",
    "1. How many drugs are represented in the file?\n",
    "2. What is the largest number of key/value (or name/value) pairs for any drug in the file?\n",
    "3. The `effective_time` is recorded for each drug as a date in the format `yyyymmdd`, for example, June 1, 1992 would be recorded as `19920601`. What is the earliest recorded date?\n",
    "\n",
    "<!--\n",
    "BEGIN QUESTION\n",
    "name: q6\n",
    "manual: false\n",
    "points:\n",
    "    - 1\n",
    "    - 1\n",
    "    - 1\n",
    "    - 1\n",
    "    - 1\n",
    "    - 1\n",
    "-->"
   ]
  },
  {
   "cell_type": "code",
   "execution_count": null,
   "metadata": {
    "scrolled": true
   },
   "outputs": [],
   "source": [
    "# Put your code to answer the question here\n",
    "\n",
    "\n",
    "q6_1 = len(labels) # number of drugs\n",
    "\n",
    "\n",
    "\n",
    "largest_pairs = len(labels[0])\n",
    "for pair in range(1,q6_1):\n",
    "    if(len(labels[pair]) > largest_pairs):\n",
    "        largest_pairs = len(labels[pair])\n",
    "        \n",
    "\n",
    "        \n",
    "q6_2 = largest_pairs # largest number of pairs\n",
    "\n",
    "\n",
    "earliestDate = labels[0][\"effective_time\"]\n",
    "for pair in range(1, q6_1):\n",
    "    if(labels[pair][\"effective_time\"]<earliestDate):\n",
    "        earliestDate = labels[pair][\"effective_time\"]\n",
    "q6_3 = earliestDate # earliest recorded date\n",
    "\n"
   ]
  },
  {
   "cell_type": "markdown",
   "metadata": {},
   "source": [
    "### Question 7\n",
    "\n",
    "Below we use the Pandas `read_json` function to import the `FDADrugLabel.json` file into a Pandas dataframe `label_df`."
   ]
  },
  {
   "cell_type": "code",
   "execution_count": null,
   "metadata": {
    "scrolled": true
   },
   "outputs": [],
   "source": [
    "# Run but do not modify this code\n",
    "import pandas as pd\n",
    "label_df = pd.read_json(\"FDADrugLabel.json\")\n",
    "label_df.head()"
   ]
  },
  {
   "cell_type": "markdown",
   "metadata": {},
   "source": [
    "Use the dataframe to answer the following questions.\n",
    "\n",
    "1. What happens if you call `label_df.dropna()` (with no optional parameters) to remove the null values? Why? \n",
    "\n",
    "2. Which of `label_df`'s columns contains data for every row? You might answer this using the `label_df.dropna()` method to keep all of the rows but remove any of the columns that have any missing data, but do not modify the `label_df` dataframe itself. \n",
    "\n",
    "3. Filter the dataframe to the rows that are missing data for `active_ingredient`, then show those rows (if `my_view` is a dataframe view you have computed by filtering the data, you can simply put `my_view` as the last line of a cell and run it to get a tabular rendering of the rows in Jupyter). You may find the Pandas `isnull` method useful, you can see it's [documentation here](https://pandas.pydata.org/pandas-docs/stable/reference/api/pandas.isnull.html).\n",
    "\n",
    "Put question 2's answer in the variable q7_2 AND question 3's answer in q7_3."
   ]
  },
  {
   "cell_type": "markdown",
   "metadata": {
    "editable": false
   },
   "source": [
    "<!-- BEGIN QUESTION -->\n",
    "\n",
    "<!--\n",
    "BEGIN QUESTION\n",
    "name: q7_manual\n",
    "manual: true\n",
    "-->"
   ]
  },
  {
   "cell_type": "markdown",
   "metadata": {},
   "source": [
    "##### Put your answer to question 7.1 here:"
   ]
  },
  {
   "cell_type": "markdown",
   "metadata": {
    "editable": false
   },
   "source": [
    "<!-- END QUESTION -->\n",
    "\n",
    "<!--\n",
    "BEGIN QUESTION\n",
    "name: q7\n",
    "manual: false\n",
    "points:\n",
    "    - 1\n",
    "    - 1\n",
    "    - 1\n",
    "    - 1\n",
    "-->"
   ]
  },
  {
   "cell_type": "code",
   "execution_count": null,
   "metadata": {},
   "outputs": [],
   "source": [
    "# Put your code to answer the question here\n",
    "# feel free to add more cells of code is needed\n",
    "\n",
    "q7_2 = list(label_df.dropna(axis=1).columns)# columns cotains data for every row. Please store the answer as a list of column names\n",
    "q7_3 = label_df[label_df['active_ingredient'].isnull()]\n"
   ]
  }
 ],
 "metadata": {
  "kernelspec": {
   "display_name": "Python 3",
   "language": "python",
   "name": "python3"
  },
  "language_info": {
   "codemirror_mode": {
    "name": "ipython",
    "version": 3
   },
   "file_extension": ".py",
   "mimetype": "text/x-python",
   "name": "python",
   "nbconvert_exporter": "python",
   "pygments_lexer": "ipython3",
   "version": "3.8.5"
  }
 },
 "nbformat": 4,
 "nbformat_minor": 4
}
