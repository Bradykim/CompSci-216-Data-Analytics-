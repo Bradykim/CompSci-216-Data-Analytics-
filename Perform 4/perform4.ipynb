{
 "cells": [
  {
   "cell_type": "markdown",
   "metadata": {
    "id": "54Rw2llZ49e8"
   },
   "source": [
    "# 4: Perform\n",
    "In this assignment, you will demonstrate your mastery of aggregating and summarizing data with Pandas `groupby` and `pivot_table` and merging/joining datasets using Pandas `concat` and `merge`."
   ]
  },
  {
   "cell_type": "markdown",
   "metadata": {
    "id": "33QLUdvU49e_"
   },
   "source": [
    "## Part 1: COVID-19 Dataset\n",
    "In this part we work with the `covid_19_data.csv` dataset. It contains records of the cumulative numbers of confirmed cases of the disease (the `Confirmed` column), deaths from the disease (the `Deaths` column), and recovered individuals (the `Recovered` column). **Remember** that *cumulative* means total up to this date, i.e., a given observation is the previous observation plus any additional since then.\n",
    "\n",
    "Each such value corresponds to a particular `Province/State` within a given `Country/Region`. Some rows do not include information at the `Province/State` level, in which case the data correspond to the `Country/Region` as a whole. The date of the record is given in the `ObservationDate` column. Below we import the dataset and preview the first few rows. "
   ]
  },
  {
   "cell_type": "code",
   "execution_count": 12,
   "metadata": {
    "id": "iyBUgTkG49fA"
   },
   "outputs": [
    {
     "data": {
      "text/html": [
       "<div>\n",
       "<style scoped>\n",
       "    .dataframe tbody tr th:only-of-type {\n",
       "        vertical-align: middle;\n",
       "    }\n",
       "\n",
       "    .dataframe tbody tr th {\n",
       "        vertical-align: top;\n",
       "    }\n",
       "\n",
       "    .dataframe thead th {\n",
       "        text-align: right;\n",
       "    }\n",
       "</style>\n",
       "<table border=\"1\" class=\"dataframe\">\n",
       "  <thead>\n",
       "    <tr style=\"text-align: right;\">\n",
       "      <th></th>\n",
       "      <th>ObservationDate</th>\n",
       "      <th>Province/State</th>\n",
       "      <th>Country/Region</th>\n",
       "      <th>Confirmed</th>\n",
       "      <th>Deaths</th>\n",
       "      <th>Recovered</th>\n",
       "    </tr>\n",
       "  </thead>\n",
       "  <tbody>\n",
       "    <tr>\n",
       "      <th>0</th>\n",
       "      <td>2020-01-22</td>\n",
       "      <td>Anhui</td>\n",
       "      <td>Mainland China</td>\n",
       "      <td>1.0</td>\n",
       "      <td>0.0</td>\n",
       "      <td>0.0</td>\n",
       "    </tr>\n",
       "    <tr>\n",
       "      <th>1</th>\n",
       "      <td>2020-01-22</td>\n",
       "      <td>Beijing</td>\n",
       "      <td>Mainland China</td>\n",
       "      <td>14.0</td>\n",
       "      <td>0.0</td>\n",
       "      <td>0.0</td>\n",
       "    </tr>\n",
       "    <tr>\n",
       "      <th>2</th>\n",
       "      <td>2020-01-22</td>\n",
       "      <td>Chongqing</td>\n",
       "      <td>Mainland China</td>\n",
       "      <td>6.0</td>\n",
       "      <td>0.0</td>\n",
       "      <td>0.0</td>\n",
       "    </tr>\n",
       "    <tr>\n",
       "      <th>3</th>\n",
       "      <td>2020-01-22</td>\n",
       "      <td>Fujian</td>\n",
       "      <td>Mainland China</td>\n",
       "      <td>1.0</td>\n",
       "      <td>0.0</td>\n",
       "      <td>0.0</td>\n",
       "    </tr>\n",
       "    <tr>\n",
       "      <th>4</th>\n",
       "      <td>2020-01-22</td>\n",
       "      <td>Gansu</td>\n",
       "      <td>Mainland China</td>\n",
       "      <td>0.0</td>\n",
       "      <td>0.0</td>\n",
       "      <td>0.0</td>\n",
       "    </tr>\n",
       "  </tbody>\n",
       "</table>\n",
       "</div>"
      ],
      "text/plain": [
       "  ObservationDate Province/State  Country/Region  Confirmed  Deaths  Recovered\n",
       "0      2020-01-22          Anhui  Mainland China        1.0     0.0        0.0\n",
       "1      2020-01-22        Beijing  Mainland China       14.0     0.0        0.0\n",
       "2      2020-01-22      Chongqing  Mainland China        6.0     0.0        0.0\n",
       "3      2020-01-22         Fujian  Mainland China        1.0     0.0        0.0\n",
       "4      2020-01-22          Gansu  Mainland China        0.0     0.0        0.0"
      ]
     },
     "execution_count": 12,
     "metadata": {},
     "output_type": "execute_result"
    }
   ],
   "source": [
    "# Run but do not modify this code\n",
    "import pandas as pd\n",
    "covid = pd.read_csv(\"covid-19.csv\", parse_dates=[\"ObservationDate\"])\n",
    "covid.head()"
   ]
  },
  {
   "cell_type": "code",
   "execution_count": 13,
   "metadata": {
    "id": "L3jr1IlW49fB"
   },
   "outputs": [
    {
     "data": {
      "text/plain": [
       "pandas._libs.tslibs.timestamps.Timestamp"
      ]
     },
     "execution_count": 13,
     "metadata": {},
     "output_type": "execute_result"
    }
   ],
   "source": [
    "type(covid[\"ObservationDate\"][0])"
   ]
  },
  {
   "cell_type": "markdown",
   "metadata": {
    "id": "OlXIs1oC49fC"
   },
   "source": [
    "### Question 1 (12 points, 4 each)\n",
    "\n",
    "1. Which `Country/Region` has reported the most total observations (rows), and how many did they report? Save the name of the Contry/Region in `q1_1_1` as `str`, and save the number they report in `q1_1_2` as `int` or `np.int64`.\n",
    "2. How many `Country/Region`s have reported at least 100 `Deaths` due to COVID-19? Save your result in `q1_2`.\n",
    "3. Which five `Province/State`s of the `Country/Region` of `Mainland China` have reported the most `Deaths` to date, and how many `Deaths` have they reported? Put your answer in `q1_3` such that it is of type `Series` where the index is the `Province/State` and the value is the number of `Deaths` as `float` or `np.float64`."
   ]
  },
  {
   "cell_type": "code",
   "execution_count": 94,
   "metadata": {
    "id": "hWjYQw3J49fC",
    "scrolled": true
   },
   "outputs": [
    {
     "name": "stdout",
     "output_type": "stream",
     "text": [
      "Russia\n",
      "19461\n",
      "139\n",
      "Province/State\n",
      "Hubei           4512.0\n",
      "Henan             22.0\n",
      "Heilongjiang      13.0\n",
      "Beijing            9.0\n",
      "Guangdong          8.0\n",
      "Name: Deaths, dtype: float64\n"
     ]
    }
   ],
   "source": [
    "# Put your code to answer the question here\n",
    "# Feel free to add additional cells\n",
    "\n",
    "#Question 1\n",
    "q1_1_1 = covid.groupby(\"Country/Region\").count().sort_values(by=[\"Confirmed\"], ascending =False).reset_index().iloc[0][\"Country/Region\"]\n",
    "q1_1_2 = covid.groupby(\"Country/Region\").count().sort_values(by=[\"Confirmed\"], ascending =False).reset_index().iloc[0][\"Confirmed\"]\n",
    "\n",
    "#Question 2\n",
    "country =covid.groupby(\"Country/Region\").max()\n",
    "q1_2 = len(country[country[\"Deaths\"]>=100].index.tolist())\n",
    "\n",
    "#Question 3\n",
    "q1_3 = covid[covid[\"Country/Region\"] == \"Mainland China\"].groupby(\"Province/State\").max().sort_values(by=[\"Deaths\"], ascending = False)[0:5][\"Deaths\"]\n",
    "\n",
    "print(q1_1_1)\n",
    "print(q1_1_2)\n",
    "print(q1_2)\n",
    "print(q1_3)"
   ]
  },
  {
   "cell_type": "markdown",
   "metadata": {
    "id": "wyVLiLae49fE"
   },
   "source": [
    "### Question 2 (8 points, 4 each)\n",
    "\n",
    "1. Report the first five `Province/State`s within the `Country/Region` of `US` to record a `Confirmed` case along with the dates on which they recorded their first case(s). Put your answer in `q2_1` such that it is of type `Series` where the index is the `Province/State` and the value is the dates on which they recorded their first case(s) as `pandas._libs.tslibs.timestamps.Timestamp`.\n",
    "\n",
    "2. All of the data for the `Country/Region` of `US` is recorded at the `Province/State` level. Create a Pandas Series called `q2_2` where the primary index has `ObservationDate`s and the values are the total `Confirmed` cases added up accross all of the `Province/State`s in the `Country/Region` of `US`. For example, the first several rows of the Series should look like:\n",
    "```\n",
    "2020-01-22           1.0\n",
    "2020-01-23           1.0\n",
    "2020-01-24           2.0\n",
    "2020-01-25           2.0\n",
    "2020-01-26           5.0\n",
    "```\n",
    "When you are finished, print `q2_2.head()` and then run the following code cell to visualize the spread of the virus in the United States as a line plot.  "
   ]
  },
  {
   "cell_type": "code",
   "execution_count": 15,
   "metadata": {
    "id": "NO8FrWIL49fG"
   },
   "outputs": [
    {
     "name": "stdout",
     "output_type": "stream",
     "text": [
      "Province/State\n",
      "Washington   2020-01-22\n",
      "Chicago      2020-01-24\n",
      "Illinois     2020-01-25\n",
      "Arizona      2020-01-26\n",
      "California   2020-01-26\n",
      "Name: ObservationDate, dtype: datetime64[ns]\n",
      "2.  ObservationDate\n",
      "2020-01-22    1.0\n",
      "2020-01-23    1.0\n",
      "2020-01-24    2.0\n",
      "2020-01-25    2.0\n",
      "2020-01-26    5.0\n",
      "Name: Confirmed, dtype: float64\n"
     ]
    }
   ],
   "source": [
    "# Put your code to answer the question here\n",
    "# Feel free to add additional cells\n",
    "\n",
    "#Question 1\n",
    "q2_1 = covid[(covid[\"Country/Region\"]==\"US\") & (covid[\"Confirmed\"] >=1)].groupby(\"Province/State\").min().sort_values(by=[\"ObservationDate\"], ascending = True)[0:5][\"ObservationDate\"]\n",
    "print(q2_1)\n",
    "\n",
    "#Question 2\n",
    "q2_2 = covid[covid[\"Country/Region\"] == \"US\"].groupby(\"ObservationDate\").sum().sort_values(by=[\"Confirmed\"], ascending =True)[\"Confirmed\"]\n",
    "print(\"2. \", q2_2.head())\n",
    "\n"
   ]
  },
  {
   "cell_type": "code",
   "execution_count": 16,
   "metadata": {
    "id": "p-QMPt5d49fH"
   },
   "outputs": [
    {
     "data": {
      "text/plain": [
       "<AxesSubplot:xlabel='ObservationDate'>"
      ]
     },
     "execution_count": 16,
     "metadata": {},
     "output_type": "execute_result"
    },
    {
     "data": {
      "image/png": "[encoded data removed]",
      "text/plain": [
       "<Figure size 432x288 with 1 Axes>"
      ]
     },
     "metadata": {
      "needs_background": "light"
     },
     "output_type": "display_data"
    }
   ],
   "source": [
    "# Run but do not modify this code\n",
    "# You should compute `q2_2` above for Q2.2\n",
    "q2_2.plot()"
   ]
  },
  {
   "cell_type": "markdown",
   "metadata": {
    "deletable": false,
    "editable": false,
    "id": "HtmPIijj49fH"
   },
   "source": [
    "<!-- BEGIN QUESTION -->\n",
    "\n",
    "<!--\n",
    "BEGIN QUESTION\n",
    "name: q2_2_manual\n",
    "manual: true\n",
    "points: 2\n",
    "-->"
   ]
  },
  {
   "cell_type": "markdown",
   "metadata": {
    "id": "_Re25CeX49fI"
   },
   "source": [
    "<!-- END QUESTION -->\n",
    "\n",
    "\n",
    "\n",
    "## Part 2: Movie Ratings\n",
    "In this part we return to the movie review dataset that contains information about various users who have rated several different movies. To start, use `first_hundred.csv` contains all data for the first 100 `user_id`s (`1` through `100`) with all information merged into one table. Later, we will consider combining information from additional files with data on the subsequent `user_id`s. Below we import `first_hundred.csv` into the DataFrame `df_fh` and preview the first few rows."
   ]
  },
  {
   "cell_type": "code",
   "execution_count": 17,
   "metadata": {
    "id": "QG1pntYq49fI"
   },
   "outputs": [
    {
     "data": {
      "text/html": [
       "<div>\n",
       "<style scoped>\n",
       "    .dataframe tbody tr th:only-of-type {\n",
       "        vertical-align: middle;\n",
       "    }\n",
       "\n",
       "    .dataframe tbody tr th {\n",
       "        vertical-align: top;\n",
       "    }\n",
       "\n",
       "    .dataframe thead th {\n",
       "        text-align: right;\n",
       "    }\n",
       "</style>\n",
       "<table border=\"1\" class=\"dataframe\">\n",
       "  <thead>\n",
       "    <tr style=\"text-align: right;\">\n",
       "      <th></th>\n",
       "      <th>user_id</th>\n",
       "      <th>age</th>\n",
       "      <th>sex</th>\n",
       "      <th>occupation</th>\n",
       "      <th>movie_id</th>\n",
       "      <th>rating</th>\n",
       "      <th>movie_title</th>\n",
       "    </tr>\n",
       "  </thead>\n",
       "  <tbody>\n",
       "    <tr>\n",
       "      <th>0</th>\n",
       "      <td>1</td>\n",
       "      <td>24</td>\n",
       "      <td>M</td>\n",
       "      <td>technician</td>\n",
       "      <td>61</td>\n",
       "      <td>4</td>\n",
       "      <td>Three Colors: White (1994)</td>\n",
       "    </tr>\n",
       "    <tr>\n",
       "      <th>1</th>\n",
       "      <td>13</td>\n",
       "      <td>47</td>\n",
       "      <td>M</td>\n",
       "      <td>educator</td>\n",
       "      <td>61</td>\n",
       "      <td>4</td>\n",
       "      <td>Three Colors: White (1994)</td>\n",
       "    </tr>\n",
       "    <tr>\n",
       "      <th>2</th>\n",
       "      <td>18</td>\n",
       "      <td>35</td>\n",
       "      <td>F</td>\n",
       "      <td>other</td>\n",
       "      <td>61</td>\n",
       "      <td>4</td>\n",
       "      <td>Three Colors: White (1994)</td>\n",
       "    </tr>\n",
       "    <tr>\n",
       "      <th>3</th>\n",
       "      <td>58</td>\n",
       "      <td>27</td>\n",
       "      <td>M</td>\n",
       "      <td>programmer</td>\n",
       "      <td>61</td>\n",
       "      <td>5</td>\n",
       "      <td>Three Colors: White (1994)</td>\n",
       "    </tr>\n",
       "    <tr>\n",
       "      <th>4</th>\n",
       "      <td>59</td>\n",
       "      <td>49</td>\n",
       "      <td>M</td>\n",
       "      <td>educator</td>\n",
       "      <td>61</td>\n",
       "      <td>4</td>\n",
       "      <td>Three Colors: White (1994)</td>\n",
       "    </tr>\n",
       "  </tbody>\n",
       "</table>\n",
       "</div>"
      ],
      "text/plain": [
       "   user_id  age sex  occupation  movie_id  rating                 movie_title\n",
       "0        1   24   M  technician        61       4  Three Colors: White (1994)\n",
       "1       13   47   M    educator        61       4  Three Colors: White (1994)\n",
       "2       18   35   F       other        61       4  Three Colors: White (1994)\n",
       "3       58   27   M  programmer        61       5  Three Colors: White (1994)\n",
       "4       59   49   M    educator        61       4  Three Colors: White (1994)"
      ]
     },
     "execution_count": 17,
     "metadata": {},
     "output_type": "execute_result"
    }
   ],
   "source": [
    "# Run but do not modify this code\n",
    "import pandas as pd\n",
    "df_fh = pd.read_csv(\"first_hundred.csv\")\n",
    "df_fh.head()"
   ]
  },
  {
   "cell_type": "markdown",
   "metadata": {
    "id": "qpeLL3EY49fI"
   },
   "source": [
    "### Question 3 (8 points, 4 each)\n",
    "Use Pandas `pivot_table`s to answer the following about the data in `first_hundred.csv`.\n",
    "\n",
    "1. For each of the five possible `rating` values (1 through 5) report how many ratings of that value were recorded for `sex=='M'` and for `sex=='F'`. That is, how many total ratings of `1` were given by women, how many total ratings of `2` were given by women, etc., and the same for men. Save your result in pivot table `q3_1`, the columns are `sex` and the rows are `rating`.\n",
    "\n",
    "2. Compute the `decade` of a user to be their `age // 10` (where `//` stands for integer division in Python so that someone with `age` between 0 and 9 would have `decade` 0, between 10 and 19 would have `decade` 1, and so on). Create a pivot table that shows the total number of `rating`s in the dataset for each combination of `decade` and `sex`. That is, your pivot table should show how many total `rating`s were made by users who are `decade==0` and `sex=='F'`, `decade==1` and `sex=='F'`, etc., and the same for `sex=='M'` for each of the five possible `rating` values (1 through 5). Use the `fill_value=0` optional parameter to the Pandas `pivot_table` method so that combinations for which there are no ratings will be printed as 0.  Display your resulting pivot table. Put your result in pivot table `q3_2`, the columns are `sex` and the rows are `decade`."
   ]
  },
  {
   "cell_type": "code",
   "execution_count": 87,
   "metadata": {
    "id": "stjCkvLY49fI"
   },
   "outputs": [
    {
     "name": "stdout",
     "output_type": "stream",
     "text": [
      "sex       F     M\n",
      "rating           \n",
      "1       200   511\n",
      "2       263   870\n",
      "3       663  2053\n",
      "4       835  2994\n",
      "5       640  1990\n",
      "rating ['F', 'M']\n"
     ]
    }
   ],
   "source": [
    "# Put your code to answer the question here\n",
    "# Feel free to add additional cells\n",
    "\n",
    "#Question 1\n",
    "q3_1 = df_fh.pivot_table(index=\"rating\", columns=\"sex\", aggfunc={\"rating\":'count'})\n",
    "q3_1.columns = q3_1.columns.droplevel(0)\n",
    "\n",
    "\n",
    "#Question 2\n",
    "df_fh[\"decade\"] = df_fh[\"age\"]//10\n",
    "q3_2 = df_fh.pivot_table(index=\"decade\", columns=\"sex\", fill_value =0, aggfunc={'rating':'count'})\n",
    "q3_2.columns = q3_2.columns.droplevel(0)\n",
    "\n",
    "print(q3_1)\n",
    "print(q3_1.index.name, sorted(q3_1.columns))"
   ]
  },
  {
   "cell_type": "markdown",
   "metadata": {
    "id": "BCx1pWBs49fJ"
   },
   "source": [
    "### Question 4 (12 points, 4 each)\n",
    "`first_hundred.csv` only contains ratings from the first 100 `user_id`s containing about 11% of the total ratings. The remaining ratings are split across two additional files: `other_ratings_a.csv` and `other_ratings_b.csv`. In addition, information about additional users not in the first hundred is contained in the `other_users.csv` file, and information about all movies is contained in the `movies.csv` file. You will need to import and appropriately combine data from all of these datasets in order to answer the following questions. We encourage you to start by exploring the individual datasets.\n",
    "\n",
    "1. What percentage of the ratings were made by women (i.e., `sex=='F'`)? Put your result in `q4_1` as a `float` or `np.float64`.\n",
    "2. What are the `movie_title`s of the five movies that have received the most ratings? Put your answer in `q4_2` such that it is of type `Series` where the index is the `movie_title` and the value is the `rating` as `int` or `np.int64`.\n",
    "3. Several movies have not received very many `rating`s; average ratings of such movies are not very informative. Instead, what are the `movie_title`s and average `rating`s of the movies that have received *at least 10* `rating`s? Show the five movies with the highest average `rating`. Put your answer in `q4_3` such that it is of type `Series` where the index is the `movie_title` and the value is the average rating as `float` or `np.float64`."
   ]
  },
  {
   "cell_type": "code",
   "execution_count": 19,
   "metadata": {},
   "outputs": [],
   "source": [
    "import pandas as pd\n",
    "first_hundred = pd.read_csv(\"first_hundred.csv\")\n",
    "ratings_a = pd.read_csv(\"other_ratings_a.csv\")\n",
    "ratings_b = pd.read_csv(\"other_ratings_b.csv\")\n",
    "other_users = pd.read_csv(\"other_users.csv\")\n",
    "movies = pd.read_csv(\"movies.csv\")\n",
    "\n",
    "ratings_ab = pd.concat([ratings_a, ratings_b], ignore_index = True)\n",
    "added_users = pd.merge(ratings_ab,other_users)\n",
    "added_movies = pd.merge(added_users,movies)\n",
    "\n",
    "allvalues = pd.concat([first_hundred, added_movies], ignore_index = True)\n"
   ]
  },
  {
   "cell_type": "code",
   "execution_count": 26,
   "metadata": {
    "id": "cN-VlwJu49fJ"
   },
   "outputs": [
    {
     "name": "stdout",
     "output_type": "stream",
     "text": [
      "0.2574\n",
      "movie_title\n",
      "Star Wars (1977)             583\n",
      "Contact (1997)               509\n",
      "Fargo (1996)                 508\n",
      "Return of the Jedi (1983)    507\n",
      "Liar Liar (1997)             485\n",
      "Name: rating, dtype: int64\n",
      "movie_title\n",
      "Close Shave, A (1995)                                     4.491071\n",
      "Schindler's List (1993)                                   4.466443\n",
      "Wrong Trousers, The (1993)                                4.466102\n",
      "Casablanca (1942)                                         4.456790\n",
      "Wallace & Gromit: The Best of Aardman Animation (1996)    4.447761\n",
      "Name: rating, dtype: float64\n"
     ]
    }
   ],
   "source": [
    "# Put your code to answer the question here\n",
    "# Feel free to add additional cells\n",
    "\n",
    "#Question 1\n",
    "q4_1 = len(allvalues[allvalues[\"sex\"]==\"F\"])/len(allvalues[\"sex\"])\n",
    "print(q4_1)\n",
    "\n",
    "#Question 2\n",
    "q4_2 = allvalues.groupby(\"movie_title\").count().sort_values(by=[\"rating\"], ascending =False)[:5][\"rating\"]\n",
    "print(q4_2)\n",
    "\n",
    "#Question 3\n",
    "ratings10 = allvalues.groupby(\"movie_title\").count()\n",
    "newlist = list(ratings10[ratings10['rating'] >= 10].index)\n",
    "newallvalues = allvalues[allvalues[\"movie_title\"].isin(newlist)]\n",
    "top5 = newallvalues.groupby(\"movie_title\").mean().sort_values(by=[\"rating\"], ascending=False)[:5][\"rating\"]\n",
    "\n",
    "q4_3 = top5\n",
    "print(q4_3)"
   ]
  }
 ],
 "metadata": {
  "colab": {
   "name": "perform4.ipynb",
   "provenance": []
  },
  "kernelspec": {
   "display_name": "Python 3",
   "language": "python",
   "name": "python3"
  },
  "language_info": {
   "codemirror_mode": {
    "name": "ipython",
    "version": 3
   },
   "file_extension": ".py",
   "mimetype": "text/x-python",
   "name": "python",
   "nbconvert_exporter": "python",
   "pygments_lexer": "ipython3",
   "version": "3.8.5"
  }
 },
 "nbformat": 4,
 "nbformat_minor": 1
}
