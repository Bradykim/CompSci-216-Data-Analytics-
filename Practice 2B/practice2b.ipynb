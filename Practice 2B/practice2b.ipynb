{
 "cells": [
  {
   "cell_type": "markdown",
   "metadata": {
    "id": "JKHtS3cdiVge"
   },
   "source": [
    "# 2B: Practice\n",
    "In this exercise, you will practice solving probability problems. Many of these will be math problems. You can write your answers in Markdown cells. And you will be able to check the resulting value of your answer (when possible) using the autograder. When saving results in variables for autograder, use decimals instead of percentages (e.g. for 25%, use 0.25 not 25). Recall that you can use LaTeX to nicely format your math inside Markdown cells by enclosing equations in single dollar signs (e.g., $x^2+4=8$) for inline math or double dollar signs for centered equations like $$P(X > 5) = \\frac{1}{6}.$$\n",
    "\n",
    "For a reference if you are new to LaTeX, see the [overleaf documentation for mathematical expressions](https://www.overleaf.com/learn/latex/mathematical_expressions). Some particular LaTeX commands you might find useful include:\n",
    "- To write a fraction, use `\\frac{numerator}{denominator}` like $\\frac{3}{4}$\n",
    "- To write set intersection and union use `\\cap` and `\\cup` respectively like $A \\cap B$ and $A \\cup B$.\n",
    "- To write a bar over something (like a set complement) use `\\overline{}` like in $\\overline{E}$.\n",
    "- To write a subscript or superscript, use `_{}` or `^{}` as in $X_{n}$ or $X^{2}$.\n",
    "- To write a sum or product, use `\\sum` or `\\prod` as in $\\sum_{i=1}^{n} X_i$ or $\\prod_{i=1}^{n} X_i$.\n",
    "\n",
    "Show your work and/or briefly explain your answers. In general, you will not receive full credit for numeric answers with no accompanying work or justification (math, code, explanation).\n",
    "\n",
    "An example of the level of explanation we are expecting is if we asked you to calculate the probability that a dice roll is even or > 3 (like in the videos), we'd first expect a translation to probabilistic terms and then transformations until you find the number like so:\n",
    "\n",
    "$$ P(even \\cup roll > 3) = P(even \\cup roll > 3) $$\n",
    "$$ =P(even) + P(roll > 3) - P(even \\cap roll > 3) $$\n",
    "$$ = \\frac{1}{2} + \\frac{1}{2} - \\frac{1}{3} $$\n",
    "$$ =\\frac{2}{3} $$\n",
    "\n",
    "When you finish please go to Kernel --> Restart and Run All, and then double check that your notebook looks correct before submitting your .ipynb file (the notebook file) on gradescope."
   ]
  },
  {
   "cell_type": "markdown",
   "metadata": {
    "id": "c2sTZv3ciVgg"
   },
   "source": [
    "### Question 1\n",
    "Suppose we roll a single fair six-sided die (meaning we get a number from 1 to 6 drawn uniformly at random) and toss a single fair coin (meaning we get heads or tails each with 50% probability). For each of the following question, what is the probability of the event? Show your work in the Markdown.\n",
    "\n",
    "For the autograder, in the code cell, put question 1's answer in the variable `q1_1`, question 2's answer in `q1_2`, and so on.\n",
    "\n",
    "1. An odd die roll and coin toss of heads.\n",
    "2. A die roll greater than or equal to 4 and anything for the coin.\n",
    "3. A coin toss of tails and anything for the die.\n",
    "4. A die roll greater than or equal to 3 or a coin toss of tails (possibly both)."
   ]
  },
  {
   "cell_type": "markdown",
   "metadata": {
    "id": "-x0NTHELiVgh"
   },
   "source": [
    "### Answer 1\n",
    "\n",
    "Show your work and/or briefly explain your answers here.\n",
    "\n",
    "Question 1:\n",
    "\n",
    "$P(heads \\cap odd) $\n",
    "\n",
    "$= (\\frac{1}{2})(\\frac{3}{6}) $\n",
    "\n",
    "$= \\frac{1}{4}$\n",
    "\n",
    ".\n",
    "\n",
    "\n",
    "Question 2:\n",
    "\n",
    "$P(roll>=4 \\cap anything)$\n",
    "\n",
    "$= (\\frac{3}{6})(1)$\n",
    "\n",
    "$= \\frac{1}{2}$\n",
    "\n",
    ".\n",
    "\n",
    "\n",
    "Question 3:\n",
    "\n",
    "$P(tails \\cap anything)$\n",
    "\n",
    "$= (\\frac{1}{2})(1)$\n",
    "\n",
    "$= \\frac{1}{2}$\n",
    "\n",
    ".\n",
    "\n",
    "\n",
    "Question 4:\n",
    "\n",
    "$P(roll>=3 \\cup tails) = P(roll>=3)+P(tails)-P(roll>=3 \\cup tails)$\n",
    "\n",
    "$= \\frac{4}{6}+\\frac{1}{2} - (\\frac{4}{6})(\\frac{1}{2})$\n",
    "\n",
    "$= \\frac{5}{6}$"
   ]
  },
  {
   "cell_type": "code",
   "execution_count": 10,
   "metadata": {
    "id": "qaXdGLkFiVgi"
   },
   "outputs": [],
   "source": [
    "# Save results in variables\n",
    "q1_1 = 0.25\n",
    "q1_2 = 0.5\n",
    "q1_3 = 0.5\n",
    "q1_4 = 0.83"
   ]
  },
  {
   "cell_type": "markdown",
   "metadata": {
    "id": "Z8h4rdP-iVgk"
   },
   "source": [
    "### Question 2\n",
    "Assume 500 students enrolled in both Calculus and Physics. Of these students,\n",
    "- 82 got an A in calculus, \n",
    "- 73 got an A in physics, and \n",
    "- 42 got an A in both courses.\n",
    "\n",
    "For each of the following, compute the probability that student chosen uniformly at random:\n",
    "1. Got an A in both courses.\n",
    "2. Got less than an A in at least one of the two courses.\n",
    "3. Got an A in calculus but not in physics.\n",
    "4. Got an A in at least one of the two courses.\n",
    "\n",
    "For the autograder, in the code cell, put question 1's answer in the variable `q2_1`, question 2's answer in `q2_2`, and so on."
   ]
  },
  {
   "cell_type": "markdown",
   "metadata": {
    "id": "ptda7do9iVgk"
   },
   "source": [
    "### Answer 2\n",
    "Show your work and/or briefly explain your answers here.\n",
    "\n",
    "Question 1:\n",
    "\n",
    "$P(A-both) $\n",
    "\n",
    "$= (\\frac{A - both}{total-students})=(\\frac{42}{500}) $\n",
    "\n",
    "$= \\frac{21}{250}$\n",
    "\n",
    ".\n",
    "\n",
    "\n",
    "Question 2:\n",
    "\n",
    "$P(>A-in-atleast-one)$\n",
    "\n",
    "$1-(Aboth)$\n",
    "\n",
    "$1-(\\frac{21}{250})$\n",
    "\n",
    "$=\\frac{229}{250}$\n",
    "\n",
    "\n",
    ".\n",
    "\n",
    "\n",
    "Question 3:\n",
    "\n",
    "$P(A-in-calc-only)$\n",
    "\n",
    "$\\frac{calc-both}{total}$\n",
    "\n",
    "$(\\frac{82-42}{500})$\n",
    "\n",
    "$=\\frac{20}{250}$\n",
    "\n",
    "\n",
    ".\n",
    "\n",
    "\n",
    "Question 4:\n",
    "\n",
    "$P(A-in-one)$\n",
    "\n",
    "$\\frac{calc+physics-both}{total}$\n",
    "\n",
    "$(\\frac{(82+73)-42}{500})$\n",
    "\n",
    "$=\\frac{113}{500}$\n"
   ]
  },
  {
   "cell_type": "code",
   "execution_count": 11,
   "metadata": {
    "id": "zKDnzmmgiVgl"
   },
   "outputs": [],
   "source": [
    "# Save results in variables\n",
    "q2_1 = 0.084\n",
    "q2_2 = 0.916\n",
    "q2_3 = 0.08\n",
    "q2_4 = 0.226"
   ]
  },
  {
   "cell_type": "markdown",
   "metadata": {
    "id": "DShIz7PQiVgn"
   },
   "source": [
    "### Question 3\n",
    "Consider a certain disease. Suppose that the probability $P(D)$ that a random person has the disease is 1% or 0.01.\n",
    "\n",
    "\n",
    "1. Suppose the probability $P(T)$ that a random person gets tested for the disease is 20% or 0.2. Also, suppose the probability $P(D \\cap T)$ that someone has the disease and gets tested is 0.5% or 0.005. What is the probability $P(D \\mid T)$ that a random person has the disease given that they get tested?\n",
    "2. Suppose the test is not 100% accurate. In particular, the probability $P(pos \\mid D)$ of a positive test result given you have the disease is 95% or 0.95. The probability $P(pos \\mid \\overline{D})$ of a positive test result given you do not have the disease is 10% or 0.1. Suppose a random person takes the test. What is the probability $P(pos)$ that they test positive?\n",
    "3. What is the probability $P(D \\mid pos)$ that a random person has the disease given that they test positive?\n",
    "\n",
    "For the autograder, in the code cell, put answers in the variables `q3_1`, `q3_2`, and so on."
   ]
  },
  {
   "cell_type": "markdown",
   "metadata": {
    "id": "LAWi5X5FiVgn"
   },
   "source": [
    "### Answer 3\n",
    "Show your work and/or briefly explain your answers here.\n",
    "\n",
    "Question 1: \n",
    "\n",
    "$P(D|T) = \\frac{P(D\\cap T)}{P(T)} $\n",
    "\n",
    "$= \\frac{.005}{.2}$\n",
    "\n",
    "$= 0.025$\n",
    "\n",
    ".\n",
    "\n",
    "Question 2:\n",
    "\n",
    "$P(pos) = P(pos | D)P(D) + P(pos | !D)P(!D)$\n",
    "\n",
    "$=(0.95)(0.01)+(0.1)(0.99)$\n",
    "\n",
    "$=0.0095+0.099$\n",
    "\n",
    "$=0.1085$\n",
    "\n",
    ".\n",
    "\n",
    "Question 3:\n",
    "\n",
    "$P(D|pos) = \\frac{P(pos|D)P(D)}{P(pos)}$\n",
    "\n",
    "$= \\frac{(0.95)(0.01)}{0.1085}$\n",
    "\n",
    "$= 0.08756$"
   ]
  },
  {
   "cell_type": "code",
   "execution_count": 12,
   "metadata": {
    "id": "mdlEjqk_iVgo"
   },
   "outputs": [],
   "source": [
    "# Save results in variables\n",
    "q3_1 = 0.025\n",
    "q3_2 = 0.1085\n",
    "q3_3 = 0.08756"
   ]
  },
  {
   "cell_type": "markdown",
   "metadata": {
    "id": "_ageuq9XiVgp"
   },
   "source": [
    "### Question 4\n",
    "Suppose a student is taking a 50-question multiple-choice exam with 4 answer choices per question. For each question, the probability that the student knows the correct answer is 80%. The student correctly answers these questions, and guesses uniformly at random on the other questions.\n",
    "\n",
    "\n",
    "1. For a single quesiton, what is the student's expected score if correct answers get 2 points and incorrect answers get 0 points?\n",
    "2. What is the student's expected overall score on all 50 questions if correct answers get 2 points and incorrect answers are penalized with 0.5 negative points?\n",
    "\n",
    "For the autograder, in the code cell, put answers in the variables `q4_1` and `q4_2`."
   ]
  },
  {
   "cell_type": "markdown",
   "metadata": {
    "id": "MoIHgeB1iVgp"
   },
   "source": [
    "### Answer 4\n",
    "Show your work and/or briefly explain your answers here.\n",
    "\n",
    "Question 1:\n",
    "\n",
    "$E[X] = 2P(correct) - 0P(incorrect) $\n",
    "\n",
    "$P(correct) = (\\frac{4}{5})(1)+(\\frac{1}{5})(\\frac{1}{4})$\n",
    "\n",
    "$P(correct) = 0.85$\n",
    "\n",
    "$E[X] = 2(0.85) = 1.7$\n",
    "\n",
    ".\n",
    "\n",
    "Question 2:\n",
    "\n",
    "$E[X] = 2P(correct) - 0.5P(incorrect) $\n",
    "$P(correct) = 0.85$\n",
    "$P(incorrect) = (\\frac{1}{5})(\\frac{3}{4})$\n",
    "$P(incorrect) = 0.15$\n",
    "$E[X] = 2(0.85) - 0.5(0.15)$\n",
    "$E[X] = 1.625$\n",
    "$E[X](50) = 81.25$"
   ]
  },
  {
   "cell_type": "code",
   "execution_count": 13,
   "metadata": {
    "id": "40g4Z2mXiVgq"
   },
   "outputs": [],
   "source": [
    "# Save results in variables\n",
    "q4_1 = 1.7\n",
    "q4_2 = 81.25"
   ]
  },
  {
   "cell_type": "markdown",
   "metadata": {
    "id": "d_LMJPnaiVgq"
   },
   "source": [
    "### Question 5\n",
    "To simplify this problem, assume that a year has twelve equal duration months, rather than the unequal months as in the standard Gregorian calendar. \n",
    "\n",
    "1. Assuming that people are equally likely to be born in any month, how many people must be selected independently and uniformly at random before the probability that at least two of the selected people have the same birth month is at least 1/2?\n",
    "2. Now assume that for each month among May, June, July, and August, the probability of being born in that month is 1/10, whereas for every other month the probability of being born in that month is 3/40. What is the probability that two people selected uniformly at random have the same birth month? Is this more or less than in part a?\n",
    "\n",
    "For the autograder, in the code cell, put answers in the variables `q5_1` and `q5_2`."
   ]
  },
  {
   "cell_type": "markdown",
   "metadata": {
    "id": "g0sUxBSriVgr"
   },
   "source": [
    "### Answer 5\n",
    "Show your work and/or briefly explain your answers here.\n",
    "\n",
    "Question 1:\n",
    "\n",
    "P(share birthday) = 1 - P(no one shares a birthday)\n",
    "\n",
    "$1-\\prod_{i=0}^{n}\\frac{12-i}{12}$\n",
    "\n",
    "$=1- (1)(\\frac{11}{12})(\\frac{10}{12})(\\frac{9}{12})(\\frac{8}{12})$\n",
    "\n",
    "$1-0.38 > 0.5$\n",
    "\n",
    "$0.62 > 0.5$\n",
    "\n",
    "So n=5. And it would take 5 people selected.\n",
    "\n",
    ".\n",
    "\n",
    "Question 2:\n",
    "P(share birthday) = P(same in special month)*4 + P(same in other month)*8\n",
    "\n",
    "$P(same-special) = (\\frac{4}{10})(\\frac{1}{10})$\n",
    "\n",
    "$P(same-normal) = (\\frac{6}{10})(\\frac{3}{40})$\n",
    "\n",
    "$P(share-birthday) = (\\frac{4}{100})+(\\frac{18}{400})$\n",
    "\n",
    "$P(share-birthday) = 0.085 $\n"
   ]
  },
  {
   "cell_type": "code",
   "execution_count": 14,
   "metadata": {
    "id": "FFrHBO2iiVgr"
   },
   "outputs": [],
   "source": [
    "# Save results in variables\n",
    "q5_1 = 5\n",
    "q5_2 = 0.085"
   ]
  },
  {
   "cell_type": "markdown",
   "metadata": {
    "id": "tRGt2T12iVgr"
   },
   "source": [
    "### Question 6\n",
    "\n",
    "1. Suppose the average/mean home price in the United States is 300,000 dollars. If we select a home uniformly at random, what is an upper bound on the probability that it's price is more than 1 million dollars? That is, provide and justify a statement of the form \"The probability that a home chosen uniformly at random has price greater than $X$ is at most $P$.\" Use Markov's inequality to provide the bound.\n",
    "2. Suppose the standard deviation in home prices is 100,000 dollars. Use Chebyshev's inequality to provide a better upper bound on the probability that a home selected unfiormly at random has price more than 1 million dollars.\n",
    "3. Suppose we have an iid sample of $n$ home prices and the empirical mean price $\\overline{X}_n$ is greater than 301,000 dollars. Assuming that we know the standard deviation in home prices is 100,000 dollars and assuming $n$ is large enough that the central limit theorem applies, how many samples $n$ would we need before we could conclude that the probability of observing $\\overline{X}_n > 301,000$ is at most 5%, assuming the true mean of the underlying distribution is 300,000 dollars?\n",
    "\n",
    "For the autograder, in the code cell, put answers in the variables `q6_1`, `q6_2`, and `q6_3`."
   ]
  },
  {
   "cell_type": "markdown",
   "metadata": {
    "id": "gPh63SpyiVgr"
   },
   "source": [
    "### Answer 6\n",
    "Show your work and/or briefly explain your answers here.\n",
    "\n",
    "Question 1:\n",
    "Markov's Inequality\n",
    "\n",
    "$= P(X >= a) =< \\frac{E[X]}{a}$\n",
    "\n",
    "$= \\frac{(300,000)}{(1,000,000)}$\n",
    "\n",
    "$= 0.3$\n",
    "\n",
    ".\n",
    "\n",
    "Question 2:\n",
    "Chebyshev's Inequality\n",
    "\n",
    "$Standard Deviation = 100,000$\n",
    "\n",
    "$Mean = 300,000$\n",
    "\n",
    "$Price = 1,000,000$\n",
    "\n",
    "$ deviations = \\frac{(1,000,000-300,000)}{(100,000)} = 7$\n",
    "\n",
    "$Chebyshev's Inequality = Upper Bound = \\frac{1}{(7^2)}= \\frac{1}{49}$\n",
    "\n",
    ".\n",
    "\n",
    "Question 3:\n",
    "\n",
    "Probability of observing $\\overline{X}_n > 301,000$\n",
    "\n",
    "n samples = $\\frac{4(sd^2)}{accuracy^2}$\n",
    "\n",
    "accuracy = 301,000-300,000 = 1,000\n",
    "\n",
    "standard deviation = 100,000\n",
    "\n",
    "n = $\\frac{4(100,000^2)}{1,000^2}$\n",
    "n= 40,000\n",
    "\n"
   ]
  },
  {
   "cell_type": "code",
   "execution_count": 15,
   "metadata": {
    "id": "KjaWxbSniVgs"
   },
   "outputs": [],
   "source": [
    "# Save results in variables\n",
    "q6_1 = 0.3\n",
    "q6_2 = 0.02041 \n",
    "q6_3 = 40000"
   ]
  },
  {
   "cell_type": "markdown",
   "metadata": {
    "id": "5LGMLoWxiVgs"
   },
   "source": [
    "### Question 7\n",
    "There were 151 \"pokemon\" in the original generation of the popular franchise. Suppose you start purchasing pokemon cards. Each card you purchase has a pokemon chosen independently and uniformly at random from the 151 possible with replacement (that is, you can get the same card multiple times). Use Monte Carlo Simulation to estimate answers to the following questions. You can use Python's `random` library or the `numpy.random` library.\n",
    "\n",
    "1. Suppose you have a particular favorite pokemon. Suppose you purchase 150 cards total. What is the probability that you will get your favorite pokemon's card? Conduct enough simulations that you are confident in your answer +/- 0.01 (or 1%).\n",
    "2. Suppose you purchase 300 cards total. What is the expected number of *unique* pokemon cards that you will have? Conduct enough simulations that you are confident in your answer +/- 1 card.\n",
    "3. Suppose you buy 600 cards total. What is the probability that you will have all 151 unique cards? Conduct enough simulations that you are confident in your answer +/- 0.01 (or 1%).\n",
    "\n",
    "For the autograder, in the code cell, put answers in the variables `q7_1`, `q7_2`, and `q7_3`."
   ]
  },
  {
   "cell_type": "code",
   "execution_count": 46,
   "metadata": {
    "id": "ZX3YILxMiVgs"
   },
   "outputs": [
    {
     "name": "stdout",
     "output_type": "stream",
     "text": [
      "0.6312\n",
      "8636.721854304637\n"
     ]
    }
   ],
   "source": [
    "# Put your code to answer question 7 here, and save results in variables below\n",
    "# Feel free to add extra code cells as needed\n",
    "import random\n",
    "\n",
    "\n",
    "#Question 1\n",
    "favorite_card = 1\n",
    "num_cards = 150\n",
    "num_trials = 10000\n",
    "num_same = 0\n",
    "\n",
    "for n in range(num_trials):\n",
    "    cards = random.choices(population=range(151), k=num_cards)\n",
    "    if favorite_card in cards:\n",
    "        num_same +=1\n",
    "\n",
    "print(num_same/num_trials)\n",
    "    \n",
    "    \n",
    "    "
   ]
  },
  {
   "cell_type": "code",
   "execution_count": 52,
   "metadata": {},
   "outputs": [
    {
     "name": "stdout",
     "output_type": "stream",
     "text": [
      "130.4317\n"
     ]
    }
   ],
   "source": [
    "import random\n",
    "#Question 2\n",
    "num_cards2 = 300\n",
    "num_trials2 = 10000\n",
    "unique_values= 0\n",
    "\n",
    "\n",
    "for n in range(num_trials2):\n",
    "    cards2 = random.choices(population=range(151), k= num_cards2)\n",
    "    unique_values+=len(set(cards2))\n",
    "\n",
    "print(unique_values/num_trials2)\n",
    "    "
   ]
  },
  {
   "cell_type": "code",
   "execution_count": 57,
   "metadata": {},
   "outputs": [
    {
     "name": "stdout",
     "output_type": "stream",
     "text": [
      "0.053\n"
     ]
    }
   ],
   "source": [
    "import random\n",
    "#Question 3\n",
    "num_cards3 = 600\n",
    "num_trials = 10000\n",
    "all_cards=0\n",
    "for n in range(num_trials):\n",
    "    cards3 = random.choices(population=range(151), k=num_cards3)\n",
    "    if(len(set(cards3))==151):\n",
    "        all_cards+=1\n",
    "print(all_cards/num_trials)"
   ]
  },
  {
   "cell_type": "code",
   "execution_count": 35,
   "metadata": {
    "id": "mHOM2nKriVgt"
   },
   "outputs": [],
   "source": [
    "# Save results in variables\n",
    "import random\n",
    "\n",
    "#Question 1\n",
    "favorite_card = 1\n",
    "num_cards = 150\n",
    "num_trials = 10000\n",
    "num_same = 0\n",
    "\n",
    "for n in range(num_trials):\n",
    "    cards = random.choices(population=range(151), k=num_cards)\n",
    "    if favorite_card in cards:\n",
    "        num_same +=1\n",
    "\n",
    "q7_1 = num_same/num_trials\n",
    "\n",
    "\n",
    "#Question 2\n",
    "num_cards2 = 300\n",
    "unique_values= 0\n",
    "\n",
    "\n",
    "for n in range(num_trials):\n",
    "    cards2 = random.choices(population=range(151), k= num_cards2)\n",
    "    unique_values+=len(set(cards2))  \n",
    "q7_2 = unique_values/num_trials2\n",
    "\n",
    "\n",
    "#Question 3\n",
    "num_cards3 = 600\n",
    "all_cards=0\n",
    "for n in range(num_trials):\n",
    "    cards3 = random.choices(population=range(151), k=num_cards3)\n",
    "    if(len(set(cards3))==151):\n",
    "        all_cards+=1\n",
    "q7_3 =all_cards/num_trials\n",
    "\n"
   ]
  },
  {
   "cell_type": "code",
   "execution_count": null,
   "metadata": {},
   "outputs": [],
   "source": []
  }
 ],
 "metadata": {
  "colab": {
   "name": "practice2b.ipynb",
   "provenance": []
  },
  "kernelspec": {
   "display_name": "Python 3",
   "language": "python",
   "name": "python3"
  },
  "language_info": {
   "codemirror_mode": {
    "name": "ipython",
    "version": 3
   },
   "file_extension": ".py",
   "mimetype": "text/x-python",
   "name": "python",
   "nbconvert_exporter": "python",
   "pygments_lexer": "ipython3",
   "version": "3.8.5"
  }
 },
 "nbformat": 4,
 "nbformat_minor": 1
}
