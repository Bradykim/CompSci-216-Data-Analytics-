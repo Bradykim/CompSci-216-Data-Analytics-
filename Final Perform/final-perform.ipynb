{
 "cells": [
  {
   "cell_type": "markdown",
   "metadata": {},
   "source": [
    "# Final Perform\n",
    "\n",
    "This is the final perform. This notebook is serves as a template for how you should structure your final submission. There are no autograded tests for this Perform. You should also feel free to add more cells and move sections around if you believe it will improve the cohesion of the assignment.\n",
    "\n",
    "The data is in RateMyProfessorSampleData.zip. You will need to unzip the file to access the data files. The data is a [sample data dump from RateMyProfessor.com](https://data.mendeley.com/datasets/fvtfjyvw7d/2).\n",
    "\n",
    "When you finish please go to Kernel --> Restart and Run All, and then double check that your notebook looks correct before saving and submitting your .ipynb file (the notebook file) on gradescope. There is no autograder for this Perform. It is entirely manually graded."
   ]
  },
  {
   "cell_type": "code",
   "execution_count": 1,
   "metadata": {},
   "outputs": [
    {
     "ename": "AttributeError",
     "evalue": "module 'seaborn' has no attribute 'set_theme'",
     "output_type": "error",
     "traceback": [
      "\u001b[1;31m---------------------------------------------------------------------------\u001b[0m",
      "\u001b[1;31mAttributeError\u001b[0m                            Traceback (most recent call last)",
      "\u001b[1;32m<ipython-input-1-d4765ff735b7>\u001b[0m in \u001b[0;36m<module>\u001b[1;34m\u001b[0m\n\u001b[0;32m      7\u001b[0m \u001b[1;32mimport\u001b[0m \u001b[0mpandas\u001b[0m \u001b[1;32mas\u001b[0m \u001b[0mpd\u001b[0m\u001b[1;33m\u001b[0m\u001b[1;33m\u001b[0m\u001b[0m\n\u001b[0;32m      8\u001b[0m \u001b[1;32mimport\u001b[0m \u001b[0mseaborn\u001b[0m \u001b[1;32mas\u001b[0m \u001b[0msns\u001b[0m\u001b[1;33m\u001b[0m\u001b[1;33m\u001b[0m\u001b[0m\n\u001b[1;32m----> 9\u001b[1;33m \u001b[0msns\u001b[0m\u001b[1;33m.\u001b[0m\u001b[0mset_theme\u001b[0m\u001b[1;33m(\u001b[0m\u001b[1;33m)\u001b[0m\u001b[1;33m\u001b[0m\u001b[1;33m\u001b[0m\u001b[0m\n\u001b[0m\u001b[0;32m     10\u001b[0m \u001b[1;33m\u001b[0m\u001b[0m\n\u001b[0;32m     11\u001b[0m \u001b[0mprint\u001b[0m\u001b[1;33m(\u001b[0m\u001b[0msns\u001b[0m\u001b[1;33m.\u001b[0m\u001b[0m__version__\u001b[0m\u001b[1;33m)\u001b[0m\u001b[1;33m\u001b[0m\u001b[1;33m\u001b[0m\u001b[0m\n",
      "\u001b[1;31mAttributeError\u001b[0m: module 'seaborn' has no attribute 'set_theme'"
     ]
    }
   ],
   "source": [
    "# Run this code cell to import relevant libraries\n",
    "# Feel free to add any other libraries here or later in your notebook\n",
    "# Please update to seaborn v0.11 for this assignment\n",
    "# check version: print(sns.__version__)\n",
    "\n",
    "import numpy as np\n",
    "import pandas as pd\n",
    "import seaborn as sns\n",
    "sns.set_theme()\n",
    "\n",
    "print(sns.__version__)"
   ]
  },
  {
   "cell_type": "markdown",
   "metadata": {},
   "source": [
    "# Introduction\n",
    "\n",
    "*Add text here if you would like to provide an introduction to your analysis that will add to the notebook's cohesion*"
   ]
  },
  {
   "cell_type": "markdown",
   "metadata": {},
   "source": [
    "# Data Processing\n",
    "\n",
    "This section should have all of your data loading and cleaning code where you load and create your DataFrame(s). It does not need to contain all of the data processing code if creating a new column or table in a later section makes more sense for explanation and cohesion."
   ]
  },
  {
   "cell_type": "code",
   "execution_count": 24,
   "metadata": {},
   "outputs": [],
   "source": [
    "# Load all data into one dataframe\n",
    "import glob\n",
    "all_data = pd.DataFrame()\n",
    "for fname in glob.glob('RateMyProfessorSampleData/*.csv'):\n",
    "    all_data = pd.concat([all_data, pd.read_csv(fname)])\n",
    "all_data = all_data.reset_index(drop=True)"
   ]
  },
  {
   "cell_type": "code",
   "execution_count": 34,
   "metadata": {},
   "outputs": [
    {
     "data": {
      "text/html": [
       "<div>\n",
       "<style scoped>\n",
       "    .dataframe tbody tr th:only-of-type {\n",
       "        vertical-align: middle;\n",
       "    }\n",
       "\n",
       "    .dataframe tbody tr th {\n",
       "        vertical-align: top;\n",
       "    }\n",
       "\n",
       "    .dataframe thead th {\n",
       "        text-align: right;\n",
       "    }\n",
       "</style>\n",
       "<table border=\"1\" class=\"dataframe\">\n",
       "  <thead>\n",
       "    <tr style=\"text-align: right;\">\n",
       "      <th></th>\n",
       "      <th>professor_name</th>\n",
       "      <th>school_name</th>\n",
       "      <th>department_name</th>\n",
       "      <th>local_name</th>\n",
       "      <th>state_name</th>\n",
       "      <th>year_since_first_review</th>\n",
       "      <th>star_rating</th>\n",
       "      <th>take_again</th>\n",
       "      <th>diff_index</th>\n",
       "      <th>tag_professor</th>\n",
       "      <th>...</th>\n",
       "      <th>student_star</th>\n",
       "      <th>student_difficult</th>\n",
       "      <th>attence</th>\n",
       "      <th>for_credits</th>\n",
       "      <th>would_take_agains</th>\n",
       "      <th>grades</th>\n",
       "      <th>stu_tags</th>\n",
       "      <th>help_useful</th>\n",
       "      <th>help_not_useful</th>\n",
       "      <th>comments</th>\n",
       "    </tr>\n",
       "  </thead>\n",
       "  <tbody>\n",
       "    <tr>\n",
       "      <td>0</td>\n",
       "      <td>Robert  Olshansky</td>\n",
       "      <td>University Of Illinois at Urbana-Champaign</td>\n",
       "      <td>Urban &amp; Regional Planning department</td>\n",
       "      <td>Champaign\\xe2\\x80\\x93Urbana</td>\n",
       "      <td>IL</td>\n",
       "      <td>0.0</td>\n",
       "      <td>3.5</td>\n",
       "      <td>NaN</td>\n",
       "      <td>2.0</td>\n",
       "      <td>NaN</td>\n",
       "      <td>...</td>\n",
       "      <td>3.5</td>\n",
       "      <td>2.0</td>\n",
       "      <td>NaN</td>\n",
       "      <td>NaN</td>\n",
       "      <td>NaN</td>\n",
       "      <td>NaN</td>\n",
       "      <td>NaN</td>\n",
       "      <td>0</td>\n",
       "      <td>0</td>\n",
       "      <td>Good guy, laid back and interested in his fiel...</td>\n",
       "    </tr>\n",
       "    <tr>\n",
       "      <td>1</td>\n",
       "      <td>Marshall  Levett</td>\n",
       "      <td>Austin Community College</td>\n",
       "      <td>Counseling department</td>\n",
       "      <td>Austin</td>\n",
       "      <td>TX</td>\n",
       "      <td>2.0</td>\n",
       "      <td>5.0</td>\n",
       "      <td>NaN</td>\n",
       "      <td>1.0</td>\n",
       "      <td>NaN</td>\n",
       "      <td>...</td>\n",
       "      <td>5.0</td>\n",
       "      <td>1.0</td>\n",
       "      <td>NaN</td>\n",
       "      <td>NaN</td>\n",
       "      <td>NaN</td>\n",
       "      <td>NaN</td>\n",
       "      <td>NaN</td>\n",
       "      <td>0</td>\n",
       "      <td>0</td>\n",
       "      <td>such a fun professor. really helpful and knows...</td>\n",
       "    </tr>\n",
       "    <tr>\n",
       "      <td>2</td>\n",
       "      <td>Marshall  Levett</td>\n",
       "      <td>Austin Community College</td>\n",
       "      <td>Counseling department</td>\n",
       "      <td>Austin</td>\n",
       "      <td>TX</td>\n",
       "      <td>2.0</td>\n",
       "      <td>5.0</td>\n",
       "      <td>NaN</td>\n",
       "      <td>1.0</td>\n",
       "      <td>NaN</td>\n",
       "      <td>...</td>\n",
       "      <td>5.0</td>\n",
       "      <td>1.0</td>\n",
       "      <td>NaN</td>\n",
       "      <td>NaN</td>\n",
       "      <td>NaN</td>\n",
       "      <td>NaN</td>\n",
       "      <td>NaN</td>\n",
       "      <td>0</td>\n",
       "      <td>0</td>\n",
       "      <td>Such a easy class. It\\'s simple. Do your homew...</td>\n",
       "    </tr>\n",
       "    <tr>\n",
       "      <td>3</td>\n",
       "      <td>Soazig  Le Bihan</td>\n",
       "      <td>University of Montana - Missoula</td>\n",
       "      <td>Philosophy department</td>\n",
       "      <td>Missoula</td>\n",
       "      <td>MT</td>\n",
       "      <td>8.0</td>\n",
       "      <td>3.6</td>\n",
       "      <td>NaN</td>\n",
       "      <td>4.5</td>\n",
       "      <td>Tough Grader (2)  Get ready to read (2)  LOTS ...</td>\n",
       "      <td>...</td>\n",
       "      <td>5.0</td>\n",
       "      <td>5.0</td>\n",
       "      <td>Mandatory</td>\n",
       "      <td>Yes</td>\n",
       "      <td>Yes</td>\n",
       "      <td>A</td>\n",
       "      <td>ACCESSIBLE OUTSIDE CLASS  GET READY TO READ  T...</td>\n",
       "      <td>0</td>\n",
       "      <td>0</td>\n",
       "      <td>A very hard class, and a massive amount of wor...</td>\n",
       "    </tr>\n",
       "    <tr>\n",
       "      <td>4</td>\n",
       "      <td>Soazig  Le Bihan</td>\n",
       "      <td>University of Montana - Missoula</td>\n",
       "      <td>Philosophy department</td>\n",
       "      <td>Missoula</td>\n",
       "      <td>MT</td>\n",
       "      <td>8.0</td>\n",
       "      <td>3.6</td>\n",
       "      <td>NaN</td>\n",
       "      <td>4.5</td>\n",
       "      <td>Tough Grader (2)  Get ready to read (2)  LOTS ...</td>\n",
       "      <td>...</td>\n",
       "      <td>1.0</td>\n",
       "      <td>4.0</td>\n",
       "      <td>Mandatory</td>\n",
       "      <td>Yes</td>\n",
       "      <td>No</td>\n",
       "      <td>NaN</td>\n",
       "      <td>LOTS OF HOMEWORK  GET READY TO READ  TOUGH GRADER</td>\n",
       "      <td>0</td>\n",
       "      <td>2</td>\n",
       "      <td>Took 100 level class for Ethics offered online...</td>\n",
       "    </tr>\n",
       "    <tr>\n",
       "      <td>5</td>\n",
       "      <td>Soazig  Le Bihan</td>\n",
       "      <td>University of Montana - Missoula</td>\n",
       "      <td>Philosophy department</td>\n",
       "      <td>Missoula</td>\n",
       "      <td>MT</td>\n",
       "      <td>8.0</td>\n",
       "      <td>3.6</td>\n",
       "      <td>NaN</td>\n",
       "      <td>4.5</td>\n",
       "      <td>Tough Grader (2)  Get ready to read (2)  LOTS ...</td>\n",
       "      <td>...</td>\n",
       "      <td>3.5</td>\n",
       "      <td>4.0</td>\n",
       "      <td>NaN</td>\n",
       "      <td>NaN</td>\n",
       "      <td>NaN</td>\n",
       "      <td>NaN</td>\n",
       "      <td>NaN</td>\n",
       "      <td>0</td>\n",
       "      <td>1</td>\n",
       "      <td>No Comments</td>\n",
       "    </tr>\n",
       "    <tr>\n",
       "      <td>6</td>\n",
       "      <td>Soazig  Le Bihan</td>\n",
       "      <td>University of Montana - Missoula</td>\n",
       "      <td>Philosophy department</td>\n",
       "      <td>Missoula</td>\n",
       "      <td>MT</td>\n",
       "      <td>8.0</td>\n",
       "      <td>3.6</td>\n",
       "      <td>NaN</td>\n",
       "      <td>4.5</td>\n",
       "      <td>Tough Grader (2)  Get ready to read (2)  LOTS ...</td>\n",
       "      <td>...</td>\n",
       "      <td>5.0</td>\n",
       "      <td>5.0</td>\n",
       "      <td>NaN</td>\n",
       "      <td>NaN</td>\n",
       "      <td>NaN</td>\n",
       "      <td>NaN</td>\n",
       "      <td>NaN</td>\n",
       "      <td>5</td>\n",
       "      <td>1</td>\n",
       "      <td>She is an extremely demanding professor. The w...</td>\n",
       "    </tr>\n",
       "    <tr>\n",
       "      <td>7</td>\n",
       "      <td>Gyda  Swayney</td>\n",
       "      <td>University of Montana - Missoula</td>\n",
       "      <td>Psychology department</td>\n",
       "      <td>Missoula</td>\n",
       "      <td>MT</td>\n",
       "      <td>0.0</td>\n",
       "      <td>3.0</td>\n",
       "      <td>NaN</td>\n",
       "      <td>2.0</td>\n",
       "      <td>NaN</td>\n",
       "      <td>...</td>\n",
       "      <td>3.0</td>\n",
       "      <td>2.0</td>\n",
       "      <td>NaN</td>\n",
       "      <td>NaN</td>\n",
       "      <td>NaN</td>\n",
       "      <td>NaN</td>\n",
       "      <td>NaN</td>\n",
       "      <td>0</td>\n",
       "      <td>0</td>\n",
       "      <td>Boo. When I took multicultural psych from Dr. ...</td>\n",
       "    </tr>\n",
       "    <tr>\n",
       "      <td>8</td>\n",
       "      <td>Stephanie  Domitrovich</td>\n",
       "      <td>University of Montana - Missoula</td>\n",
       "      <td>Health &amp; Human Performance department</td>\n",
       "      <td>Missoula</td>\n",
       "      <td>MT</td>\n",
       "      <td>6.0</td>\n",
       "      <td>2.8</td>\n",
       "      <td>NaN</td>\n",
       "      <td>3.9</td>\n",
       "      <td>BEWARE OF POP QUIZZES (1)  Skip class? You won...</td>\n",
       "      <td>...</td>\n",
       "      <td>5.0</td>\n",
       "      <td>3.0</td>\n",
       "      <td>Mandatory</td>\n",
       "      <td>Yes</td>\n",
       "      <td>NaN</td>\n",
       "      <td>NaN</td>\n",
       "      <td>NaN</td>\n",
       "      <td>0</td>\n",
       "      <td>0</td>\n",
       "      <td>Steph was very helpful and cared about our exp...</td>\n",
       "    </tr>\n",
       "    <tr>\n",
       "      <td>9</td>\n",
       "      <td>Stephanie  Domitrovich</td>\n",
       "      <td>University of Montana - Missoula</td>\n",
       "      <td>Health &amp; Human Performance department</td>\n",
       "      <td>Missoula</td>\n",
       "      <td>MT</td>\n",
       "      <td>6.0</td>\n",
       "      <td>2.8</td>\n",
       "      <td>NaN</td>\n",
       "      <td>3.9</td>\n",
       "      <td>BEWARE OF POP QUIZZES (1)  Skip class? You won...</td>\n",
       "      <td>...</td>\n",
       "      <td>5.0</td>\n",
       "      <td>2.0</td>\n",
       "      <td>Mandatory</td>\n",
       "      <td>Yes</td>\n",
       "      <td>NaN</td>\n",
       "      <td>NaN</td>\n",
       "      <td>BEWARE OF POP QUIZZES  EXTRA CREDIT  SKIP CLAS...</td>\n",
       "      <td>0</td>\n",
       "      <td>0</td>\n",
       "      <td>One of the best classes I took at UM.</td>\n",
       "    </tr>\n",
       "  </tbody>\n",
       "</table>\n",
       "<p>10 rows × 23 columns</p>\n",
       "</div>"
      ],
      "text/plain": [
       "           professor_name                                 school_name  \\\n",
       "0       Robert  Olshansky  University Of Illinois at Urbana-Champaign   \n",
       "1        Marshall  Levett                    Austin Community College   \n",
       "2        Marshall  Levett                    Austin Community College   \n",
       "3        Soazig  Le Bihan            University of Montana - Missoula   \n",
       "4        Soazig  Le Bihan            University of Montana - Missoula   \n",
       "5        Soazig  Le Bihan            University of Montana - Missoula   \n",
       "6        Soazig  Le Bihan            University of Montana - Missoula   \n",
       "7           Gyda  Swayney            University of Montana - Missoula   \n",
       "8  Stephanie  Domitrovich            University of Montana - Missoula   \n",
       "9  Stephanie  Domitrovich            University of Montana - Missoula   \n",
       "\n",
       "                         department_name                    local_name  \\\n",
       "0   Urban & Regional Planning department   Champaign\\xe2\\x80\\x93Urbana   \n",
       "1                  Counseling department                        Austin   \n",
       "2                  Counseling department                        Austin   \n",
       "3                  Philosophy department                      Missoula   \n",
       "4                  Philosophy department                      Missoula   \n",
       "5                  Philosophy department                      Missoula   \n",
       "6                  Philosophy department                      Missoula   \n",
       "7                  Psychology department                      Missoula   \n",
       "8  Health & Human Performance department                      Missoula   \n",
       "9  Health & Human Performance department                      Missoula   \n",
       "\n",
       "  state_name  year_since_first_review  star_rating take_again  diff_index  \\\n",
       "0         IL                      0.0          3.5        NaN         2.0   \n",
       "1         TX                      2.0          5.0        NaN         1.0   \n",
       "2         TX                      2.0          5.0        NaN         1.0   \n",
       "3         MT                      8.0          3.6        NaN         4.5   \n",
       "4         MT                      8.0          3.6        NaN         4.5   \n",
       "5         MT                      8.0          3.6        NaN         4.5   \n",
       "6         MT                      8.0          3.6        NaN         4.5   \n",
       "7         MT                      0.0          3.0        NaN         2.0   \n",
       "8         MT                      6.0          2.8        NaN         3.9   \n",
       "9         MT                      6.0          2.8        NaN         3.9   \n",
       "\n",
       "                                       tag_professor  ...  student_star  \\\n",
       "0                                                NaN  ...           3.5   \n",
       "1                                                NaN  ...           5.0   \n",
       "2                                                NaN  ...           5.0   \n",
       "3  Tough Grader (2)  Get ready to read (2)  LOTS ...  ...           5.0   \n",
       "4  Tough Grader (2)  Get ready to read (2)  LOTS ...  ...           1.0   \n",
       "5  Tough Grader (2)  Get ready to read (2)  LOTS ...  ...           3.5   \n",
       "6  Tough Grader (2)  Get ready to read (2)  LOTS ...  ...           5.0   \n",
       "7                                                NaN  ...           3.0   \n",
       "8  BEWARE OF POP QUIZZES (1)  Skip class? You won...  ...           5.0   \n",
       "9  BEWARE OF POP QUIZZES (1)  Skip class? You won...  ...           5.0   \n",
       "\n",
       "  student_difficult    attence  for_credits  would_take_agains grades  \\\n",
       "0               2.0        NaN          NaN                NaN    NaN   \n",
       "1               1.0        NaN          NaN                NaN    NaN   \n",
       "2               1.0        NaN          NaN                NaN    NaN   \n",
       "3               5.0  Mandatory          Yes                Yes      A   \n",
       "4               4.0  Mandatory          Yes                 No    NaN   \n",
       "5               4.0        NaN          NaN                NaN    NaN   \n",
       "6               5.0        NaN          NaN                NaN    NaN   \n",
       "7               2.0        NaN          NaN                NaN    NaN   \n",
       "8               3.0  Mandatory          Yes                NaN    NaN   \n",
       "9               2.0  Mandatory          Yes                NaN    NaN   \n",
       "\n",
       "                                            stu_tags help_useful  \\\n",
       "0                                                NaN           0   \n",
       "1                                                NaN           0   \n",
       "2                                                NaN           0   \n",
       "3  ACCESSIBLE OUTSIDE CLASS  GET READY TO READ  T...           0   \n",
       "4  LOTS OF HOMEWORK  GET READY TO READ  TOUGH GRADER           0   \n",
       "5                                                NaN           0   \n",
       "6                                                NaN           5   \n",
       "7                                                NaN           0   \n",
       "8                                                NaN           0   \n",
       "9  BEWARE OF POP QUIZZES  EXTRA CREDIT  SKIP CLAS...           0   \n",
       "\n",
       "  help_not_useful                                           comments  \n",
       "0               0  Good guy, laid back and interested in his fiel...  \n",
       "1               0  such a fun professor. really helpful and knows...  \n",
       "2               0  Such a easy class. It\\'s simple. Do your homew...  \n",
       "3               0  A very hard class, and a massive amount of wor...  \n",
       "4               2  Took 100 level class for Ethics offered online...  \n",
       "5               1                                        No Comments  \n",
       "6               1  She is an extremely demanding professor. The w...  \n",
       "7               0  Boo. When I took multicultural psych from Dr. ...  \n",
       "8               0  Steph was very helpful and cared about our exp...  \n",
       "9               0              One of the best classes I took at UM.  \n",
       "\n",
       "[10 rows x 23 columns]"
      ]
     },
     "execution_count": 34,
     "metadata": {},
     "output_type": "execute_result"
    }
   ],
   "source": [
    "all_data.head(10)"
   ]
  },
  {
   "cell_type": "markdown",
   "metadata": {},
   "source": [
    "# Visualization\n",
    "\n",
    "This section should contain at least one visualization showing something informative about the data. The skills you learned for this section primarily come from Module 5B."
   ]
  },
  {
   "cell_type": "code",
   "execution_count": 39,
   "metadata": {
    "scrolled": true
   },
   "outputs": [
    {
     "data": {
      "text/plain": [
       "<seaborn.axisgrid.FacetGrid at 0x145f5d44d88>"
      ]
     },
     "execution_count": 39,
     "metadata": {},
     "output_type": "execute_result"
    },
    {
     "data": {
      "image/png": "[encoded data removed]",
      "text/plain": [
       "<Figure size 360x360 with 1 Axes>"
      ]
     },
     "metadata": {
      "needs_background": "light"
     },
     "output_type": "display_data"
    }
   ],
   "source": [
    "lineplot = sns.relplot(x=\"student_difficult\", y=\"student_star\", data = all_data, kind= \"line\")\n",
    "lineplot.set(xlabel='Student Difficulty Rating', ylabel='Student Star Rating', title='Relationship Between Difficulty Rating and Star Rating')"
   ]
  },
  {
   "cell_type": "markdown",
   "metadata": {},
   "source": [
    "Visualization 1 Analysis:\n",
    "    We decided to compare the student difficulty rating and the amount of stars overall the student gave the professor. We thought that these two would have a correlation because the easier the class, the less amount of work the class has. Usually, the easier and less work a class is means students are more satisfied with the class, so they will rate the professor higher. This was found to be true as these two variables have a fairly strong negative exponential correlation. "
   ]
  },
  {
   "cell_type": "code",
   "execution_count": 42,
   "metadata": {},
   "outputs": [
    {
     "data": {
      "text/plain": [
       "<seaborn.axisgrid.FacetGrid at 0x145fa0a5508>"
      ]
     },
     "execution_count": 42,
     "metadata": {},
     "output_type": "execute_result"
    },
    {
     "data": {
      "image/png": "[encoded data removed]",
      "text/plain": [
       "<Figure size 720x720 with 1 Axes>"
      ]
     },
     "metadata": {
      "needs_background": "light"
     },
     "output_type": "display_data"
    }
   ],
   "source": [
    "grades_vis = all_data.copy()\n",
    "allowed_grades=[\"A+\", \"A\", \"A-\",\"B+\", \"B\", \"B-\", \"C+\", \"C\", \"C-\", \"D+\", \"D\", \"D-\", \"F\"]\n",
    "grades_vis = grades_vis[grades_vis[\"grades\"].isin(allowed_grades)]\n",
    "barplot = sns.catplot(x=\"student_star\", y= \"grades\", data=grades_vis, kind =\"bar\", height=10, order=allowed_grades)\n",
    "barplot.set(xlabel='Student Star Rating', ylabel='Grades', title='Relationship Between Star Rating and Class Grade')"
   ]
  },
  {
   "cell_type": "markdown",
   "metadata": {},
   "source": [
    "Visualization 2 Analysis:\n",
    "    We decided to also compare the student grade in the class and the amount of star ratings the student gave. We figured that the lower the student grades, the lower the students rating of the class would be on average. This is found to be true and on average for each grade level the higher the student grade the higher the rating. The only discrepancy came in the F-D range where this makes sense because the difference in student satisfaction at the lower grades is marginal.  "
   ]
  },
  {
   "cell_type": "markdown",
   "metadata": {},
   "source": [
    "# Hypothesis Test\n",
    "\n",
    "This section should contain at least one hypothesis test about the data. The skills you learned for this section primarily came from Module 3B."
   ]
  },
  {
   "cell_type": "markdown",
   "metadata": {},
   "source": [
    "The null hypothesis is that the average student star rating given by students who received an A- or higher is equal to the average student star rating given by students who received a grade between a B- and a B+. The alternative hypothesis is that the average student star rating given by students who received an A- or higher is greater than the average student star rating given by students who received a a grade between a B- and a B+ (one-sided test)."
   ]
  },
  {
   "cell_type": "code",
   "execution_count": 85,
   "metadata": {},
   "outputs": [
    {
     "data": {
      "text/plain": [
       "7.102103151341108e-50"
      ]
     },
     "execution_count": 85,
     "metadata": {},
     "output_type": "execute_result"
    }
   ],
   "source": [
    "from scipy import stats\n",
    "allowed_grades=[\"A+\", \"A\", \"A-\"]\n",
    "allowed_grades2=[\"B+\", \"B\", \"B-\"]\n",
    "good_grades = grades_vis[grades_vis['grades'].isin(allowed_grades)]\n",
    "bad_grades = grades_vis[grades_vis['grades'].isin(allowed_grades2)]\n",
    "\n",
    "test_results = stats.ttest_ind_from_stats(mean1=np.mean(good_grades['student_star']), std1=np.std(good_grades['student_star']), nobs1=len(good_grades),\n",
    "                                          mean2=np.mean(bad_grades['student_star']), std2=np.std(bad_grades['student_star']), nobs2=len(bad_grades))\n",
    "# Divide by 2 since ttest_ind_from_stats uses a two-sided test\n",
    "test_results[1]/2"
   ]
  },
  {
   "cell_type": "markdown",
   "metadata": {},
   "source": [
    "Using a one-sided t test a p-value of about 7.102e-50 was calculated. This is less than the significance level of 0.05 so we can reject the null hypothesis and thus can conclude that the average student star rating given by students who received an A- or higher is greater than the average student star rating given by students who received a a grade between a B- and a B+."
   ]
  },
  {
   "cell_type": "markdown",
   "metadata": {},
   "source": [
    "# Prediction\n",
    "\n",
    "This section should contain the creation and testing of at least one model. The skills you learned for this section primarily came from Module 6."
   ]
  },
  {
   "cell_type": "code",
   "execution_count": 113,
   "metadata": {},
   "outputs": [
    {
     "name": "stdout",
     "output_type": "stream",
     "text": [
      "MSE: 1.1827980760746777 r^2: 0.2914647560355479\n"
     ]
    }
   ],
   "source": [
    "from sklearn.linear_model import LinearRegression\n",
    "from sklearn.metrics import mean_squared_error\n",
    "from sklearn.metrics import r2_score\n",
    "from sklearn.preprocessing import OneHotEncoder\n",
    "from sklearn.model_selection import train_test_split\n",
    "\n",
    "# Write your code for question 2 here\n",
    "# and store your results in the correct variable names for full credit\n",
    "\n",
    "data = np.append(OneHotEncoder().fit_transform(grades_vis[['grades']].values).toarray(),\n",
    "          grades_vis[['student_difficult']], axis=1)\n",
    "\n",
    "linear_model = LinearRegression()\n",
    "train_data, test_data, train_target, test_target = train_test_split(data, grades_vis['student_star'], \n",
    "                                                                    test_size=0.25, \n",
    "                                                                    random_state=33)\n",
    "linear_model.fit(X=train_data, y=train_target)\n",
    "\n",
    "q2_mse = mean_squared_error(test_target.values,\n",
    "                            linear_model.predict(test_data)) # float: MSE\n",
    "q2_r2 = r2_score(test_target.values,\n",
    "                 linear_model.predict(test_data)) # float: R^2 score\n",
    "\n",
    "\n",
    "# Leave this line here to print the result\n",
    "print(\"MSE:\", q2_mse, \"r^2:\", q2_r2)"
   ]
  },
  {
   "cell_type": "markdown",
   "metadata": {},
   "source": [
    "# Additional Analysis\n",
    "\n",
    "This section should contain one more analysis of your choosing. It can be like any of the other analysis sections."
   ]
  },
  {
   "cell_type": "markdown",
   "metadata": {},
   "source": [
    "The null hypothesis is that the average student star rating given by students who rated the difficulty of a professor to be a 5 is equal to the average student star rating given by students who rated the difficulty of a professor to be a 4. The alternative hypothesis is that the average student star rating given by students who rated the difficulty of a professor to be a 5 is less than the average student star rating given by students who rated the difficulty of a professor to be a 4 (one-sided test)."
   ]
  },
  {
   "cell_type": "code",
   "execution_count": 98,
   "metadata": {},
   "outputs": [
    {
     "data": {
      "text/plain": [
       "5.3755021565823274e-11"
      ]
     },
     "execution_count": 98,
     "metadata": {},
     "output_type": "execute_result"
    }
   ],
   "source": [
    "from scipy import stats\n",
    "good_grades = all_data[all_data['student_difficult'] == 1]\n",
    "bad_grades = all_data[all_data['student_difficult'] == 2]\n",
    "\n",
    "test_results = stats.ttest_ind_from_stats(mean1=np.mean(good_grades['student_star']), std1=np.std(good_grades['student_star']), nobs1=len(good_grades),\n",
    "                                          mean2=np.mean(bad_grades['student_star']), std2=np.std(bad_grades['student_star']), nobs2=len(bad_grades))\n",
    "# Divide by 2 since ttest_ind_from_stats uses a two-sided test\n",
    "test_results[1]/2"
   ]
  },
  {
   "cell_type": "markdown",
   "metadata": {},
   "source": [
    "Using a one-sided t test a p-value of about 5.376e-11 was calculated. This is less than the significance level of 0.05 so we can reject the null hypothesis and thus can conclude that the average student star rating given by students who rated the difficulty of a professor to be a 5 is lower than the average student star rating given by students who rated the difficulty of a professor to be a 4."
   ]
  },
  {
   "cell_type": "markdown",
   "metadata": {},
   "source": [
    "# Conclusion\n",
    "\n",
    "*Add text here if you want to be considered for the last few points assessing the overall cohesion of your sections and an effective concluding summary.*"
   ]
  }
 ],
 "metadata": {
  "kernelspec": {
   "display_name": "Python 3",
   "language": "python",
   "name": "python3"
  },
  "language_info": {
   "codemirror_mode": {
    "name": "ipython",
    "version": 3
   },
   "file_extension": ".py",
   "mimetype": "text/x-python",
   "name": "python",
   "nbconvert_exporter": "python",
   "pygments_lexer": "ipython3",
   "version": "3.8.5"
  }
 },
 "nbformat": 4,
 "nbformat_minor": 5
}
