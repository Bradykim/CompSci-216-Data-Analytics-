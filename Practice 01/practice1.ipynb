{
 "cells": [
  {
   "cell_type": "markdown",
   "metadata": {
    "id": "NH3ciI7BAHTK"
   },
   "source": [
    "# Practice 1"
   ]
  },
  {
   "cell_type": "markdown",
   "metadata": {
    "id": "KE4iSkX-AHTP"
   },
   "source": [
    "In this exercise, you will warm up / refresh your Python skills by analyzing some real data inside of a Jupyter notebook environment. You should write whatever **Python** code you like to solve these problems. You can search on the web for documentation and techniques to help you solve the problem. See especially the official [Python tutorial](https://docs.python.org/3/tutorial/) and [documentation](https://docs.python.org/3/).\n",
    "\n",
    "For grading, we will be using an autograder in [Gradescope](http://gradescope.com/). It grades based on values in specific variables or function names. Make sure to read the problem carefully to know what names to use so the autograder can correctly find your answers.\n",
    "\n",
    "When you are ready to check your answer(s), submit your assignment at [Gradescope](http://gradescope.com/)."
   ]
  },
  {
   "cell_type": "markdown",
   "metadata": {
    "id": "FAMWJsE1AHTR"
   },
   "source": [
    "## Part 1: Text\n",
    "The `text.txt` file contains the opening sentences of Charles' Dickens novel *A Tale of Two Cities*. Run the code below. It will read the file, store it in a string variable `text`, and print the first 500 characters."
   ]
  },
  {
   "cell_type": "code",
   "execution_count": 1,
   "metadata": {
    "id": "JprjPXt8AHTS"
   },
   "outputs": [
    {
     "name": "stdout",
     "output_type": "stream",
     "text": [
      "it was the best of times, it was the worst of times, it was the age of wisdom, it was the age of foolishness, it was the epoch of belief, it was the epoch of incredulity, it was the season of light, it was the season of darkness, it was the spring of hope, it was the winter of despair, we had everything before us, we had nothing before us, we were all going direct to heaven, we were all going direct the other way- in short, the period was so far like the present period, that some of its noisiest ...\n"
     ]
    }
   ],
   "source": [
    "f = open('text.txt')\n",
    "text = f.read()\n",
    "f.close()\n",
    "\n",
    "print(text[:500], '...')"
   ]
  },
  {
   "cell_type": "markdown",
   "metadata": {
    "deletable": false,
    "editable": false,
    "id": "4Oej9d20AHTV"
   },
   "source": [
    "### Question 1\n",
    "In the variable `firstSentence` put the first sentence of the text. In the variable `lastSentence` put the last sentence of the text. You may assume sentences only end with a period (`'.'`).\n",
    "\n",
    "You may find the Python `split` method for strings to be useful: https://docs.python.org/3/library/stdtypes.html?highlight=split#str.split `sep='.'`.\n",
    "<!--\n",
    "BEGIN QUESTION\n",
    "name: q1\n",
    "manual: false\n",
    "points:\n",
    "    - 0.5\n",
    "    - 0.5\n",
    "    - 0.5\n",
    "    - 0.5\n",
    "-->"
   ]
  },
  {
   "cell_type": "code",
   "execution_count": 2,
   "metadata": {
    "id": "I_MRb-I3AHTV",
    "scrolled": true
   },
   "outputs": [
    {
     "name": "stdout",
     "output_type": "stream",
     "text": [
      " thus did the year one thousand seven hundred and seventy-five conduct their greatnesses, and myriads of small creatures-the creatures of this chronicle among the rest-along the roads that lay before them\n"
     ]
    }
   ],
   "source": [
    "# Code for question 1\n",
    "# save results in two variables: firstSentence & lastSentence\n",
    "listoftext = text.split('.')\n",
    "firstSentence = listoftext[0]\n",
    "lastSentence = listoftext[-2]\n",
    "\n",
    "\n",
    "print(lastSentence)"
   ]
  },
  {
   "cell_type": "markdown",
   "metadata": {
    "deletable": false,
    "editable": false,
    "id": "DN6rraA5mAkP"
   },
   "source": [
    "### Question 2\n",
    "In the variable `v_count` place the total number of vowels (`a`, `e`, `i`, `o`, `u`) that appear in the text.\n",
    "<!--\n",
    "BEGIN QUESTION\n",
    "name: q2\n",
    "manual: false\n",
    "points:\n",
    "    - 0.5\n",
    "    - 1.5\n",
    "-->"
   ]
  },
  {
   "cell_type": "code",
   "execution_count": 3,
   "metadata": {
    "id": "3nDqZItYmAkQ"
   },
   "outputs": [
    {
     "name": "stdout",
     "output_type": "stream",
     "text": [
      "1735\n"
     ]
    }
   ],
   "source": [
    "# Code for question 2\n",
    "# save the result in a variable: v_count\n",
    "v_count =0\n",
    "vowel=\"aeiou\"\n",
    "charintext = list(text)\n",
    "for character in charintext:\n",
    " \n",
    "    if character in vowel:\n",
    "        v_count+=1\n",
    "\n",
    "print(v_count)"
   ]
  },
  {
   "cell_type": "markdown",
   "metadata": {
    "deletable": false,
    "editable": false,
    "id": "ttkQbPf8mAkR"
   },
   "source": [
    "### Question 3\n",
    "A trigram is a string of exactly 3 characters (or a string with length exactly 3), including blank spaces. For example, the first five trigrams in the text are:\n",
    "1. `it `\n",
    "2. `t w`\n",
    "3. ` wa`\n",
    "4. `was`\n",
    "5. `as `\n",
    "\n",
    "In the variablew `most_tri` place the most common trigram in the text.\n",
    "<!--\n",
    "BEGIN QUESTION\n",
    "name: q3\n",
    "manual: false\n",
    "points:\n",
    "    - 0.5\n",
    "    - 1.5\n",
    "-->"
   ]
  },
  {
   "cell_type": "code",
   "execution_count": 4,
   "metadata": {
    "id": "tNWNBn17mAkS"
   },
   "outputs": [
    {
     "name": "stdout",
     "output_type": "stream",
     "text": [
      " th\n"
     ]
    }
   ],
   "source": [
    "# Code for question 3\n",
    "# save the result in a variable: most_tri\n",
    "\n",
    "tridict = dict()\n",
    "\n",
    "for index,word in enumerate(text):\n",
    "    current_tri = text[index:index+3]\n",
    "    \n",
    "    if current_tri in tridict:\n",
    "        tridict[current_tri]+=1\n",
    "    else:\n",
    "        tridict[current_tri] = 1\n",
    "\n",
    "most_tri = max(tridict, key=tridict.get)\n",
    "\n",
    "print(most_tri)\n",
    "\n",
    "        \n",
    "    \n"
   ]
  },
  {
   "cell_type": "markdown",
   "metadata": {
    "id": "boPGCiLFmAkT"
   },
   "source": [
    "## Part 2: Rides\n",
    "\n",
    "The [boston.csv](boston.csv) file contains data on weekday Uber rides in the Boston, Massachusetts metropolitan areas from the [Uber Movement](https://movement.uber.com) project. The `sourceid` and `dstid` columns contain codes corresponding to start and end locations of each ride. The `hod` column contains codes corresponding to the hour of the day the ride took place. The `ride time` column contains the length of the ride, in minutes.\n",
    "\n",
    "The code below will open the file and read the data as a list of rows, with each row represented as a string. It then prints the first four rows. Note that the first (index 0) row contains the column headers."
   ]
  },
  {
   "cell_type": "code",
   "execution_count": 5,
   "metadata": {
    "id": "cIN9azKRmAkT"
   },
   "outputs": [
    {
     "name": "stdout",
     "output_type": "stream",
     "text": [
      "sourceid,dstid,hod,ride time\n",
      "\n",
      "584,33,7,11.866000000000001\n",
      "\n",
      "1013,1116,13,17.799333333333333\n",
      "\n",
      "884,1190,22,19.348833333333335\n",
      "\n"
     ]
    }
   ],
   "source": [
    "f = open('boston.csv')\n",
    "data = f.readlines()\n",
    "f.close()\n",
    "for row in data[:4]:\n",
    "    print(row)"
   ]
  },
  {
   "cell_type": "markdown",
   "metadata": {
    "deletable": false,
    "editable": false,
    "id": "oAKKW3aVmAkT"
   },
   "source": [
    "### Question 4\n",
    "In the variable `num_rides` place how many rides are listed in the the file.\n",
    "<!--\n",
    "BEGIN QUESTION\n",
    "name: q4\n",
    "manual: false\n",
    "points:\n",
    "    - 0.5\n",
    "    - 1.5\n",
    "-->"
   ]
  },
  {
   "cell_type": "code",
   "execution_count": 6,
   "metadata": {
    "id": "kKU9xeMBmAkT"
   },
   "outputs": [
    {
     "name": "stdout",
     "output_type": "stream",
     "text": [
      "200000\n"
     ]
    }
   ],
   "source": [
    "# Code for question 4\n",
    "# save the result in a variable: num_rides\n",
    "num_rides = len(data)-1\n",
    "\n",
    "print(num_rides)"
   ]
  },
  {
   "cell_type": "markdown",
   "metadata": {
    "deletable": false,
    "editable": false,
    "id": "lQW7eHvqmAkU"
   },
   "source": [
    "### Question 5\n",
    "In the variable `max_ride` place the length of the longest ride.\n",
    "<!--\n",
    "BEGIN QUESTION\n",
    "name: q5\n",
    "manual: false\n",
    "points:\n",
    "    - 0.5\n",
    "    - 1.5\n",
    "-->"
   ]
  },
  {
   "cell_type": "code",
   "execution_count": 26,
   "metadata": {
    "id": "5JxCeyV6mAkU"
   },
   "outputs": [
    {
     "name": "stdout",
     "output_type": "stream",
     "text": [
      "1471.98616666666\n"
     ]
    }
   ],
   "source": [
    "# Code for question 5\n",
    "# save the result in a variable: max_ride\n",
    "\n",
    "max_ride =0\n",
    "for row in data[1:]:\n",
    "    currentlist = row.split(',')\n",
    "    stringnum = currentlist[-1]\n",
    "    current_length = stringnum[:-3]\n",
    "    intcurrent_length = float(current_length)\n",
    "    if max_ride < intcurrent_length:\n",
    "        max_ride = intcurrent_length\n",
    "        \n",
    "print(max_ride)\n",
    "\n",
    "\n",
    "    "
   ]
  },
  {
   "cell_type": "markdown",
   "metadata": {
    "deletable": false,
    "editable": false,
    "id": "YRlDsqh3mAkU"
   },
   "source": [
    "### Question 6\n",
    "In the variable `avg_ride` place the average length of a ride.\n",
    "<!--\n",
    "BEGIN QUESTION\n",
    "name: q6\n",
    "manual: false\n",
    "points:\n",
    "    - 0.5\n",
    "    - 1.5\n",
    "-->"
   ]
  },
  {
   "cell_type": "code",
   "execution_count": 30,
   "metadata": {
    "id": "H20nwLpfmAkV"
   },
   "outputs": [
    {
     "name": "stdout",
     "output_type": "stream",
     "text": [
      "16.50247791000012\n"
     ]
    }
   ],
   "source": [
    "# Code for question 6\n",
    "# save the result in a variable: avg_ride\n",
    "\n",
    "numrides=0\n",
    "total_length =0\n",
    "for row in data[1:]:\n",
    "    currentlist = row.split(',')\n",
    "    stringnum = currentlist[-1]\n",
    "    current_length = stringnum\n",
    "    intcurrent_length = float(current_length)\n",
    "    total_length+= intcurrent_length\n",
    "    numrides+=1\n",
    "avg_ride = total_length/numrides\n",
    "print(avg_ride)"
   ]
  },
  {
   "cell_type": "markdown",
   "metadata": {
    "deletable": false,
    "editable": false,
    "id": "ySTK-pq4mAkV"
   },
   "source": [
    "### Question 7\n",
    "In the variable percent_lt_ten place the percent of rides are under 10 minutes?\n",
    "<!--\n",
    "BEGIN QUESTION\n",
    "name: q7\n",
    "manual: false\n",
    "points:\n",
    "    - 0.5\n",
    "    - 1.5\n",
    "-->"
   ]
  },
  {
   "cell_type": "code",
   "execution_count": 31,
   "metadata": {
    "id": "vIBhkr0JmAkV"
   },
   "outputs": [
    {
     "name": "stdout",
     "output_type": "stream",
     "text": [
      "0.22829\n"
     ]
    }
   ],
   "source": [
    "# Code for question 7\n",
    "# save the result in a variable: pct_lt_ten\n",
    "totalrides=0\n",
    "underten=0\n",
    "for row in data[1:]:\n",
    "    currentlist = row.split(',')\n",
    "    stringnum = currentlist[-1]\n",
    "    current_length = stringnum\n",
    "    intcurrent_length = float(current_length)\n",
    "    if intcurrent_length < 10:\n",
    "        underten+=1\n",
    "    totalrides+=1\n",
    "        \n",
    "percent_lt_ten= (underten/totalrides)\n",
    "print(percent_lt_ten)"
   ]
  },
  {
   "cell_type": "markdown",
   "metadata": {
    "deletable": false,
    "editable": false,
    "id": "Uv5R0VZ6mAkV"
   },
   "source": [
    "### Question 8\n",
    "For each HOD (hour of day), count how many rides take place during that hour. Put it in a list where index 0 has the number of rides where `hod` was 0, at index 1 where `hod` was 1, etc. until index 23. This means your list will be 24 long. Put this list in a variable called `hod_counts`.\n",
    "<!--\n",
    "BEGIN QUESTION\n",
    "name: q8\n",
    "manual: false\n",
    "points:\n",
    "    - 0.5\n",
    "    - 1.5\n",
    "-->"
   ]
  },
  {
   "cell_type": "code",
   "execution_count": 8,
   "metadata": {
    "id": "9YGP3Ni8mAkW"
   },
   "outputs": [
    {
     "name": "stdout",
     "output_type": "stream",
     "text": [
      "[7600, 6568, 5555, 4296, 4371, 5343, 7424, 9173, 9510, 9259, 9053, 8755, 8885, 8813, 9688, 9748, 9930, 9952, 8365, 8926, 9771, 9894, 9863, 9258]\n"
     ]
    }
   ],
   "source": [
    "# Code for question 8\n",
    "# save results in a list: hod_counts\n",
    "hod_counts=[]\n",
    "for index in range(24):\n",
    "    hod_counts.append(0)\n",
    "\n",
    "for row in data[1:]:\n",
    "    currentlist = row.split(',')\n",
    "    stringnum = currentlist[-2]\n",
    "    index = float(stringnum)\n",
    "    intindex= int(index)\n",
    "    hod_counts[intindex] +=1\n",
    "    \n",
    "print(hod_counts)\n",
    "\n",
    "\n",
    "\n",
    "    \n"
   ]
  },
  {
   "cell_type": "markdown",
   "metadata": {
    "deletable": false,
    "editable": false,
    "id": "mnTT41qgmAkW"
   },
   "source": [
    "### Question 9\n",
    "What are the three most common **start** locations (`sourceid`) for rides in the dataset? You may find the built-in Python `sorted` function helpful; it's usage is described in https://docs.python.org/3/howto/sorting.html.\n",
    "\n",
    "Place your answer in the variable `top_three` sorted with the most common location first.\n",
    "<!--\n",
    "BEGIN QUESTION\n",
    "name: q9\n",
    "manual: false\n",
    "points:\n",
    "    - 0.5\n",
    "    - 1.5\n",
    "-->"
   ]
  },
  {
   "cell_type": "code",
   "execution_count": 25,
   "metadata": {
    "id": "pYxFudf2mAkW"
   },
   "outputs": [
    {
     "name": "stdout",
     "output_type": "stream",
     "text": [
      "['885', '498', '435']\n"
     ]
    }
   ],
   "source": [
    "# Code for question 9\n",
    "# save results in a list: top_three\n",
    "top_three=[]\n",
    "currentdict=dict()\n",
    "for row in data[1:]:\n",
    "    currentlist = row.split(',')\n",
    "    stringnum = currentlist[-4]\n",
    "    location = float(stringnum)\n",
    "    intlocation= int(location)\n",
    "    if intlocation in currentdict:\n",
    "        currentdict[intlocation]+=1\n",
    "    else:\n",
    "        currentdict[intlocation] = 1\n",
    "\n",
    "sorted_dict= sorted(currentdict.items(), key = lambda x: x[1], reverse = True)\n",
    "listtopthree= sorted_dict[:3]\n",
    "top_three=[]\n",
    "for item in listtopthree:\n",
    "    top_three.append(str(item[0]))\n",
    "print(top_three)\n",
    "\n",
    "\n",
    "\n",
    "    "
   ]
  },
  {
   "cell_type": "markdown",
   "metadata": {
    "id": "cNz7ImRomAkX"
   },
   "source": [
    "## Submitting\n",
    "\n",
    "You should make sure any code that you write to answer the questions is included in this notebook. Save your work. Double check that your entire notebook runs correctly and generates the expected output. We recommend going to the Kernel option and choosing \"Restart & Run All.\" When you finish, submit your assignment at [Gradescope](http://gradescope.com/)."
   ]
  },
  {
   "cell_type": "code",
   "execution_count": null,
   "metadata": {},
   "outputs": [],
   "source": []
  }
 ],
 "metadata": {
  "colab": {
   "collapsed_sections": [],
   "name": "practice1s-ksm-fix.ipynb",
   "provenance": []
  },
  "kernelspec": {
   "display_name": "Python 3",
   "language": "python",
   "name": "python3"
  }
 },
 "nbformat": 4,
 "nbformat_minor": 1
}
