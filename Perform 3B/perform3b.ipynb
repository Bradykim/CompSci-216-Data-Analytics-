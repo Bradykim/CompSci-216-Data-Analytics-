{
 "cells": [
  {
   "cell_type": "markdown",
   "metadata": {
    "id": "GkQtCemH1iIv"
   },
   "source": [
    "# 3B: Perform\n",
    "In this exercise, you will demonstrate your learning of inferential statistics with confidence intervals, bootstrapping, and hypothesis testing. Problems may involve a combination of math and code. \n",
    "\n",
    "Recall that you can use LaTeX to nicely format your math inside Markdown cellsby enclosing equations in single dollar signs (e.g., $x^2+4=8$) for inline math or double dollar signs for centered equations like $$P(X > 5) = \\frac{1}{6}.$$ For a reference if you are new to LaTeX, see the [overleaf documentation for mathematical expressions](https://www.overleaf.com/learn/latex/mathematical_expressions). \n",
    "\n",
    "Show your work and/or briefly explain your answers. In general, you will not receive full credit for numeric answers with no accompanying work or justification (math, code, explanation). For numeric answers, we will accept answers that are very slightly off due to rounding, z score of 2 vs. 1.96, etc. \n",
    "\n",
    "When you finish please go to Kernel --> Restart and Run All, and then double check that your notebook looks correct before submitting your .ipynb file (the notebook file) on gradescope."
   ]
  },
  {
   "cell_type": "code",
   "execution_count": 2,
   "metadata": {
    "id": "po02GbZd1iIx"
   },
   "outputs": [],
   "source": [
    "# Run this code cell to import relevant libraries\n",
    "import numpy as np\n",
    "import pandas as pd\n",
    "from scipy import stats"
   ]
  },
  {
   "cell_type": "markdown",
   "metadata": {
    "id": "qFaqcCQP1iIy"
   },
   "source": [
    "### Question 1\n",
    "\n",
    "1. A website is trying to increase registration for first-time visitors, exposing a random subset of these visitors to a new site design. Of 752 randomly sampled visitors over a month who saw the new design, 64 registered. Construct a 95% confidence interval for the percentage of visitors who would register for the website under the new design using the normal distribution. Save your answer in a tuple `q1_1` with 2 `numpy.float64` items that `q1_1[0]` is the left bound and `q1_1[1]` is the right bound. Use percentages for both bounds, for example, save 50.0 in your answer for 50% of visitors.\n",
    "2. A study examined the average pay for a random sample of men and women entering the workforce as doctors for 21 different positions. If each gender was equally paid, then we would expect about half of those positions to have men paid more than women and women would be paid more than men in the other half of positions. In the study, men were, on average, paid more in 17 of the 21 positions. Complete a hypothesis test (two-sided or one-sided, just be clear which you are reporting) to examine whether there is significant evidence (at the 0.05 level) of gender discrimination in pay in these positions. Report your p-value and interpret the result. Save your p-value in `q1_2` as a `numpy.float64` and interpret it in the \"Answer 1\" cell."
   ]
  },
  {
   "cell_type": "code",
   "execution_count": 3,
   "metadata": {
    "id": "EeP-5-ms1iIz"
   },
   "outputs": [
    {
     "data": {
      "text/plain": [
       "0.004556349803185089"
      ]
     },
     "execution_count": 3,
     "metadata": {},
     "output_type": "execute_result"
    }
   ],
   "source": [
    "# Code for question 1\n",
    "alpha1 = 0.95\n",
    "mu = 64/752\n",
    "sigma = np.sqrt(mu*(1-mu))\n",
    "n = 752\n",
    "c1 = list(stats.norm.interval(alpha= alpha1, loc = mu, scale = sigma/np.sqrt(n)))\n",
    "c1[0] *= 100\n",
    "c1[1] *= 100\n",
    "\n",
    "q1_1 = tuple(c1)\n",
    "\n",
    "\n",
    "#Two-sided\n",
    "mu2 = 0.5\n",
    "sigma2 = np.sqrt(mu2*(1-mu2))\n",
    "value2 = (17/21-mu2)/sigma2 * np.sqrt(21)\n",
    "c2 = 2*(1-stats.norm.cdf(value2))\n",
    "\n",
    "q1_2 = c2\n",
    "\n",
    "q1_2"
   ]
  },
  {
   "cell_type": "markdown",
   "metadata": {
    "id": "qoEVHgMl1iI0"
   },
   "source": [
    "### Answer 1\n",
    "\n",
    "Essentially we are comparing the two hypothesis. And the null hypothesis is that half of the positions for men and women entering the workforce as doctors would have men paid more and half would have women paid more.The alternative hypothesis was that it is inaccurate to say half of jobs related to sex are paid more. \n",
    "I used the function for a normal distribution to find the p-value of 0.00455. The significance level was 0.05 which is more than the p-value so we can reject the null hypothesis."
   ]
  },
  {
   "cell_type": "markdown",
   "metadata": {
    "id": "3LPFa6kR1iI0"
   },
   "source": [
    "<!-- END QUESTION -->\n",
    "\n",
    "\n",
    "\n",
    "## Movie Ratings Data\n",
    "In the remainder of this assignment you will work with the movielens dataset of movie ratings that we have seen before. Below we import and preview the data. It consists of 2 tables: `users` has a row for every individual who has rated any movies, `movie-ratings` has a row for every rating of a particular movie by a particular user. This means users with multiple ratings are in the `movie_ratings` multiple times. The data is a random sample of all of the movie ratings made on the movielens service."
   ]
  },
  {
   "cell_type": "code",
   "execution_count": 4,
   "metadata": {
    "id": "5h6hYYrw1iI0"
   },
   "outputs": [
    {
     "data": {
      "text/html": [
       "<div>\n",
       "<style scoped>\n",
       "    .dataframe tbody tr th:only-of-type {\n",
       "        vertical-align: middle;\n",
       "    }\n",
       "\n",
       "    .dataframe tbody tr th {\n",
       "        vertical-align: top;\n",
       "    }\n",
       "\n",
       "    .dataframe thead th {\n",
       "        text-align: right;\n",
       "    }\n",
       "</style>\n",
       "<table border=\"1\" class=\"dataframe\">\n",
       "  <thead>\n",
       "    <tr style=\"text-align: right;\">\n",
       "      <th></th>\n",
       "      <th>user_id</th>\n",
       "      <th>age</th>\n",
       "      <th>sex</th>\n",
       "      <th>occupation</th>\n",
       "    </tr>\n",
       "  </thead>\n",
       "  <tbody>\n",
       "    <tr>\n",
       "      <th>0</th>\n",
       "      <td>1</td>\n",
       "      <td>24</td>\n",
       "      <td>M</td>\n",
       "      <td>technician</td>\n",
       "    </tr>\n",
       "    <tr>\n",
       "      <th>1</th>\n",
       "      <td>2</td>\n",
       "      <td>53</td>\n",
       "      <td>F</td>\n",
       "      <td>other</td>\n",
       "    </tr>\n",
       "    <tr>\n",
       "      <th>2</th>\n",
       "      <td>3</td>\n",
       "      <td>23</td>\n",
       "      <td>M</td>\n",
       "      <td>writer</td>\n",
       "    </tr>\n",
       "    <tr>\n",
       "      <th>3</th>\n",
       "      <td>4</td>\n",
       "      <td>24</td>\n",
       "      <td>M</td>\n",
       "      <td>technician</td>\n",
       "    </tr>\n",
       "    <tr>\n",
       "      <th>4</th>\n",
       "      <td>5</td>\n",
       "      <td>33</td>\n",
       "      <td>F</td>\n",
       "      <td>other</td>\n",
       "    </tr>\n",
       "  </tbody>\n",
       "</table>\n",
       "</div>"
      ],
      "text/plain": [
       "   user_id  age sex  occupation\n",
       "0        1   24   M  technician\n",
       "1        2   53   F       other\n",
       "2        3   23   M      writer\n",
       "3        4   24   M  technician\n",
       "4        5   33   F       other"
      ]
     },
     "execution_count": 4,
     "metadata": {},
     "output_type": "execute_result"
    }
   ],
   "source": [
    "users = pd.read_csv(\"users.csv\")\n",
    "users.head()"
   ]
  },
  {
   "cell_type": "code",
   "execution_count": 5,
   "metadata": {
    "id": "xAwb2q5I1iI0"
   },
   "outputs": [
    {
     "data": {
      "text/html": [
       "<div>\n",
       "<style scoped>\n",
       "    .dataframe tbody tr th:only-of-type {\n",
       "        vertical-align: middle;\n",
       "    }\n",
       "\n",
       "    .dataframe tbody tr th {\n",
       "        vertical-align: top;\n",
       "    }\n",
       "\n",
       "    .dataframe thead th {\n",
       "        text-align: right;\n",
       "    }\n",
       "</style>\n",
       "<table border=\"1\" class=\"dataframe\">\n",
       "  <thead>\n",
       "    <tr style=\"text-align: right;\">\n",
       "      <th></th>\n",
       "      <th>user_id</th>\n",
       "      <th>age</th>\n",
       "      <th>sex</th>\n",
       "      <th>occupation</th>\n",
       "      <th>movie_id</th>\n",
       "      <th>rating</th>\n",
       "      <th>movie_title</th>\n",
       "    </tr>\n",
       "  </thead>\n",
       "  <tbody>\n",
       "    <tr>\n",
       "      <th>0</th>\n",
       "      <td>1</td>\n",
       "      <td>24</td>\n",
       "      <td>M</td>\n",
       "      <td>technician</td>\n",
       "      <td>61</td>\n",
       "      <td>4</td>\n",
       "      <td>Three Colors: White (1994)</td>\n",
       "    </tr>\n",
       "    <tr>\n",
       "      <th>1</th>\n",
       "      <td>13</td>\n",
       "      <td>47</td>\n",
       "      <td>M</td>\n",
       "      <td>educator</td>\n",
       "      <td>61</td>\n",
       "      <td>4</td>\n",
       "      <td>Three Colors: White (1994)</td>\n",
       "    </tr>\n",
       "    <tr>\n",
       "      <th>2</th>\n",
       "      <td>18</td>\n",
       "      <td>35</td>\n",
       "      <td>F</td>\n",
       "      <td>other</td>\n",
       "      <td>61</td>\n",
       "      <td>4</td>\n",
       "      <td>Three Colors: White (1994)</td>\n",
       "    </tr>\n",
       "    <tr>\n",
       "      <th>3</th>\n",
       "      <td>58</td>\n",
       "      <td>27</td>\n",
       "      <td>M</td>\n",
       "      <td>programmer</td>\n",
       "      <td>61</td>\n",
       "      <td>5</td>\n",
       "      <td>Three Colors: White (1994)</td>\n",
       "    </tr>\n",
       "    <tr>\n",
       "      <th>4</th>\n",
       "      <td>59</td>\n",
       "      <td>49</td>\n",
       "      <td>M</td>\n",
       "      <td>educator</td>\n",
       "      <td>61</td>\n",
       "      <td>4</td>\n",
       "      <td>Three Colors: White (1994)</td>\n",
       "    </tr>\n",
       "  </tbody>\n",
       "</table>\n",
       "</div>"
      ],
      "text/plain": [
       "   user_id  age sex  occupation  movie_id  rating                 movie_title\n",
       "0        1   24   M  technician        61       4  Three Colors: White (1994)\n",
       "1       13   47   M    educator        61       4  Three Colors: White (1994)\n",
       "2       18   35   F       other        61       4  Three Colors: White (1994)\n",
       "3       58   27   M  programmer        61       5  Three Colors: White (1994)\n",
       "4       59   49   M    educator        61       4  Three Colors: White (1994)"
      ]
     },
     "execution_count": 5,
     "metadata": {},
     "output_type": "execute_result"
    }
   ],
   "source": [
    "movie_ratings = pd.read_csv(\"movies-all.csv\")\n",
    "movie_ratings.head()"
   ]
  },
  {
   "cell_type": "markdown",
   "metadata": {
    "id": "k2NVYyKD1iI0"
   },
   "source": [
    "### Question 2\n",
    "1. Compute a 95% confidence interval for the mean `age` of users using the normal distribution. Save your answer in a tuple `q2_1` with 2 `numpy.float64` items that `q2_1[0]` is the left bound and `q2_1[1]` is the right bound.\n",
    "2. Compute a 95% confidence interval for the mean `age` of users who have rated the movie `Casablanca (1942)` using the normal distribution. Save your answer in `q2_2`, similar requirements as above.\n",
    "3. Casablanca is an old movie, one might suspect that it has been rated by older individuals on average than the entire dataset. Just looking at the confidence intervals you computed in steps 1 and 2, can you conclude that there is significant evidence for this belief? Why or why not? Put your answer in the \"Answer 2\" cell."
   ]
  },
  {
   "cell_type": "code",
   "execution_count": 6,
   "metadata": {
    "id": "EX28-InX1iI1"
   },
   "outputs": [
    {
     "data": {
      "text/plain": [
       "0.01660840728074272"
      ]
     },
     "execution_count": 6,
     "metadata": {},
     "output_type": "execute_result"
    }
   ],
   "source": [
    "# Code for question 2\n",
    "newmovie = movie_ratings.drop_duplicates(subset=\"user_id\")\n",
    "\n",
    "#Part 1\n",
    "alpha = 0.95\n",
    "mu = newmovie[\"age\"].mean()\n",
    "sigma = np.std(newmovie[\"age\"])\n",
    "n = len(newmovie[\"age\"])\n",
    "c1 = list(stats.norm.interval(alpha= alpha, loc = mu, scale = sigma/np.sqrt(n)))\n",
    "\n",
    "q2_1 = tuple(c1)\n",
    "\n",
    "\n",
    "\n",
    "#Part 2\n",
    "\n",
    "movies = movie_ratings[movie_ratings[\"movie_title\"] == \"Casablanca (1942)\"]\n",
    "mu1 = movies[\"age\"].mean()\n",
    "sigma1 = np.std(movies[\"age\"])\n",
    "n1= len(movies[\"age\"])\n",
    "c2 = list(stats.norm.interval(alpha= alpha, loc = mu1, scale = sigma1/np.sqrt(n1)))\n",
    "\n",
    "q2_2 = tuple(c2)\n",
    "\n",
    "q2_2\n",
    "\n",
    "\n",
    "#Part 3\n",
    "tester = stats.ttest_ind_from_stats(mean1 = mu, std1=sigma, nobs1 = n,\n",
    "                                   mean2 = mu1, std2=sigma1, nobs2= n1)\n",
    "\n",
    "pvalue = list(tester)[1]/2\n",
    "q2_3 = pvalue\n",
    "\n",
    "q2_3"
   ]
  },
  {
   "cell_type": "markdown",
   "metadata": {
    "id": "ITNlfdLi1iI2"
   },
   "source": [
    "### Answer 2\n",
    "We need to look at the null hypothesis is the average age of all reviewers of all users and the average age of the reviewers of casablanca are equal. While the alterante hypothesis is that they are unequal and that the average age for casablanca reviewers is higher than the regular average. By looking at our values for Part 1 and Part 2, as well as the pvalue calculated from a test. It showed the p-value was about 0.017 which is less than 0.05 then we reject the null hypothesis and we can conclude that the casablanca viewers are older. "
   ]
  },
  {
   "cell_type": "markdown",
   "metadata": {
    "id": "8EQKpSx01iI2"
   },
   "source": [
    "<!-- END QUESTION -->\n",
    "\n",
    "\n",
    "\n",
    "### Question 3\n",
    "Only 18 users have rated the movie `Lost in Space (1998)`.\n",
    "1. Use bootstrapping with 10,000 bootstrap resamples to compute a 95% confidence interval for the average `age` of users who have rated `Lost in Space (1998)`. Save your answer in a tuple `q3_1` with 2 `numpy.float64` items that `q3_1[0]` is the left bound and `q3_1[1]` is the right bound.\n",
    "2. One of the advantages of bootstrapping is that we can easily compute confidence intervals for arbitrary measurements of distributions. Use bootstrapping with 10,000 bootstrap resamples to compute a 95% confidence interval for the **median** `rating` of `Lost in Space (1998)`. Note that numpy provides a vectorized function for [calculating the median](https://numpy.org/doc/stable/reference/generated/numpy.median.html) as well as the mean. Save your answer in a tuple `q3_2` with 2 `numpy.float64` items. Similar requirements as above"
   ]
  },
  {
   "cell_type": "code",
   "execution_count": 7,
   "metadata": {
    "id": "YdqXe9bA1iI2"
   },
   "outputs": [
    {
     "data": {
      "text/plain": [
       "(2.5, 4.0)"
      ]
     },
     "execution_count": 7,
     "metadata": {},
     "output_type": "execute_result"
    }
   ],
   "source": [
    "# Code for question 3\n",
    "\n",
    "#Part 1\n",
    "\n",
    "bootstraps = 100000\n",
    "movies = movie_ratings[movie_ratings[\"movie_title\"] == \"Lost in Space (1998)\"][\"age\"]\n",
    "n = len(movies)\n",
    "bootstrap_resample = np.random.choice(movies, size = (bootstraps, n), replace = True)\n",
    "means = np.average(bootstrap_resample, axis =1)\n",
    "bootstrapConfIntlower = np.percentile(means, 2.5)\n",
    "bootstrapConfIntupper = np.percentile(means, 97.5)\n",
    "\n",
    "\n",
    "q3_1 = (bootstrapConfIntlower,bootstrapConfIntupper)\n",
    "\n",
    "\n",
    "\n",
    "#Part 2\n",
    "movies = movie_ratings[movie_ratings[\"movie_title\"] == \"Lost in Space (1998)\"][\"rating\"]\n",
    "n = len(movies)\n",
    "bootstrap_resample = np.random.choice(movies, size = (bootstraps, n), replace = True)\n",
    "means = np.median(bootstrap_resample, axis =1)\n",
    "bootstrapConfIntlower = np.percentile(means, 2.5)\n",
    "bootstrapConfIntupper = np.percentile(means, 97.5)\n",
    "\n",
    "q3_2 = (bootstrapConfIntlower,bootstrapConfIntupper)\n",
    "\n",
    "q3_2"
   ]
  },
  {
   "cell_type": "markdown",
   "metadata": {
    "id": "9hvqfYVy1iI2"
   },
   "source": [
    "### Question 4\n",
    "The `Star Wars (1977)` film is quite popular, with a median rating of 5 out of 5. However, male users gave it a slightly higher average rating of about 4.4 whereas female users gave the same movie an average rating of about 4.2.\n",
    "\n",
    "1. Consider the null hypothesis that the average rating of `Star Wars (1977)` is the same for `sex='F'` and `sex='M'` users. The alternative hypothesis is that the average ratings are not equal. Conduct a two-sided t test using [`stats.ttest_ind`](https://docs.scipy.org/doc/scipy/reference/generated/scipy.stats.ttest_ind.html) to evaluate this using the sample ratings data. Report your p-value and interpret it at a significance level of 0.05. Save your p-value in `q4_1` as a `numpy.float64` and interpret it in the \"Answer 4\" cell.\n",
    "\n",
    "2. About 51% of female users rated `Star Wars (1977)` a `5` (the highest rating). Consider the null hypothesis that 51% of male users rate `Star Wars (1977)` a `5`. Conduct a two-sided hypothesis test  using [`stats.t.cdf`](https://docs.scipy.org/doc/scipy/reference/generated/scipy.stats.t.html) to evaluate this in light of the sample ratings data of male users who rated `Star Wars (1977)`. Report your p-value and interpret it at a significance level of 0.05. Save your p-value in `q4_2` as a `numpy.float64` and interpret it in the \"Answer 4\" cell.\n",
    "\n",
    "3. Consider the null hypothesis that female and male users are equally likely to rate `Star Wars (1977)` a `5`. Conduct a two-sided t test using [`stats.ttest_ind_from_stats`](https://docs.scipy.org/doc/scipy/reference/generated/scipy.stats.ttest_ind_from_stats.html) to evaluate this in light of the sample data of female and male users who rated `Star Wars (1977)`. Report your p-value and interpret it at a significance level of 0.05. Save your p-value in `q4_3` as a `numpy.float64` and interpret it in the \"Answer 4\" cell. You should observe a different p-value than in step 2 despite the hypotheses under consideration being ostensibly similar. Briefly explain why you observe this difference."
   ]
  },
  {
   "cell_type": "code",
   "execution_count": 9,
   "metadata": {
    "id": "ZVf39Vjz1iI3"
   },
   "outputs": [
    {
     "data": {
      "text/plain": [
       "0.1717837459146108"
      ]
     },
     "execution_count": 9,
     "metadata": {},
     "output_type": "execute_result"
    }
   ],
   "source": [
    "# Code for question 4\n",
    "\n",
    "#Part 1\n",
    "maleRatings = movie_ratings[(movie_ratings[\"movie_title\"]==\"Star Wars (1977)\") & (movie_ratings[\"sex\"] == \"M\")][\"rating\"]\n",
    "femaleRatings = movie_ratings[(movie_ratings[\"movie_title\"]==\"Star Wars (1977)\") & (movie_ratings[\"sex\"] == \"F\")][\"rating\"]\n",
    "maleAverage = maleRatings.mean()\n",
    "femaleAverage = femaleRatings.mean()\n",
    "result = stats.ttest_ind(maleRatings,femaleRatings)\n",
    "\n",
    "pvalue1 = list(result)[1]\n",
    "q4_1 = pvalue1\n",
    "\n",
    "\n",
    "#Part 2\n",
    "averagefivestar= len(maleRatings[maleRatings==5])/len(maleRatings)\n",
    "length = len(maleRatings)\n",
    "decimal = 0.51\n",
    "stderr = np.sqrt(decimal*(1-decimal)/length)\n",
    "scores = (averagefivestar-0.51)/stderr\n",
    "value = (1- stats.t.cdf(scores,df=length-1))*2\n",
    "\n",
    "q4_2 = value\n",
    "\n",
    "\n",
    "#DIFFERENT .1717\n",
    "#Part 3\n",
    "sigmaMale = np.sqrt(averagefivestar*(1-averagefivestar))\n",
    "mu_fem = len(femaleRatings[femaleRatings==5])/len(femaleRatings)\n",
    "\n",
    "sigmafemale = np.sqrt(mu_fem*(1-mu_fem))\n",
    "result1 = stats.ttest_ind_from_stats(mean1 = averagefivestar, std1= sigmaMale, nobs1 = len(maleRatings),\n",
    "                                   mean2 = mu_fem, std2 = sigmafemale, nobs2= len(femaleRatings))\n",
    "\n",
    "pvalue3 = list(result1)[1]\n",
    "q4_3 = pvalue3\n",
    "\n",
    "q4_3"
   ]
  },
  {
   "cell_type": "markdown",
   "metadata": {},
   "source": [
    "### Answer 4\n",
    "\n",
    "Part 1 Interpretation:\n",
    "We need to look at the null hypothesis which is the average rating of Star Wars for both sexes is the same. While the alterante hypothesis is that they are unequal and that one gender rated Star Wars higher on average. The test showed the p-value was about 0.06 which is higher than 0.05 then we accept the null hypothesis and that the rating for Star Wars of both sexes is the same.\n",
    "\n",
    "\n",
    "Part 2 Interpretation:\n",
    "We need to look at the null hypothesis which is 51% of males rated Star Wars a 5. While the alterante hypothesis is that this is not true. The test showed the p-value was about 0.02 which is lower than 0.05 then we reject the null hypothesis and that the percent of males that rated Star Wars a 5 is not equal to 51%.\n",
    "\n",
    "Part 3 Interpretation:\n",
    "We need to look at the null hypothesis which is both sexes are equally rate Star Wars a 5. While the alterante hypothesis is that their ratings of Star Wars is unequal based off of gender. The test showed the p-value was about 0.12 which is higher than 0.05 then we accept the null hypothesis and that the rating for Star Wars of a 5 is at an equal rate for both genders.\n"
   ]
  }
 ],
 "metadata": {
  "colab": {
   "collapsed_sections": [],
   "name": "perform3b.ipynb",
   "provenance": []
  },
  "kernelspec": {
   "display_name": "Python 3",
   "language": "python",
   "name": "python3"
  },
  "language_info": {
   "codemirror_mode": {
    "name": "ipython",
    "version": 3
   },
   "file_extension": ".py",
   "mimetype": "text/x-python",
   "name": "python",
   "nbconvert_exporter": "python",
   "pygments_lexer": "ipython3",
   "version": "3.8.5"
  }
 },
 "nbformat": 4,
 "nbformat_minor": 1
}
