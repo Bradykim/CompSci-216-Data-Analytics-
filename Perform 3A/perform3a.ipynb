{
 "cells": [
  {
   "cell_type": "markdown",
   "metadata": {
    "tags": []
   },
   "source": [
    "# 3A: Perform"
   ]
  },
  {
   "cell_type": "markdown",
   "metadata": {},
   "source": [
    "In this assignment, you will demonstrate your mastery with wrangling data through different formats, with missing data, and working with text.\n",
    "\n",
    "You can either print answers directly from your code or write them in the markdown cells below your code. Either way, make sure that your answers are visible and can be easily read in the final notebook you turn in."
   ]
  },
  {
   "cell_type": "markdown",
   "metadata": {},
   "source": [
    "## Part 1: Text wrangling and regular expressions\n",
    "In this part we will work with the citation file exported from the [Nature Review Article](https://www.nature.com/articles/s41586-020-2649-2) *Array Programming with NumPy*. Below we read the file into the Python variable `cite` and print the result for you to preview."
   ]
  },
  {
   "cell_type": "code",
   "execution_count": 2,
   "metadata": {},
   "outputs": [
    {
     "name": "stdout",
     "output_type": "stream",
     "text": [
      "TY  - JOUR\n",
      "AU  - Harris, Charles R.\n",
      "AU  - Millman, K. Jarrod\n",
      "AU  - van der Walt, StÃ©fan J.\n",
      "AU  - Gommers, Ralf\n",
      "AU  - Virtanen, Pauli\n",
      "AU  - Cournapeau, David\n",
      "AU  - Wieser, Eric\n",
      "AU  - Taylor, Julian\n",
      "AU  - Berg, Sebastian\n",
      "AU  - Smith, Nathaniel J.\n",
      "AU  - Kern, Robert\n",
      "AU  - Picus, Matti\n",
      "AU  - Hoyer, Stephan\n",
      "AU  - van Kerkwijk, Marten H.\n",
      "AU  - Brett, Matthew\n",
      "AU  - Haldane, Allan\n",
      "AU  - del RÃ­o, Jaime FernÃ¡ndez\n",
      "AU  - Wiebe, Mark\n",
      "AU  - Peterson, Pearu\n",
      "AU  - GÃ©rard-Marchant, Pierre\n",
      "AU  - Sheppard, Kevin\n",
      "AU  - Reddy, Tyler\n",
      "AU  - Weckesser, Warren\n",
      "AU  - Abbasi, Hameer\n",
      "AU  - Gohlke, Christoph\n",
      "AU  - Oliphant, Travis E.\n",
      "PY  - 2020\n",
      "DA  - 2020/09/01\n",
      "TI  - Array programming with NumPy\n",
      "JO  - Nature\n",
      "SP  - 357\n",
      "EP  - 362\n",
      "VL  - 585\n",
      "IS  - 7825\n",
      "AB  - Array programming provides a powerful, compact and expressive syntax for accessing, manipulating and operating on data in vectors, matrices and higher-dimensional arrays. NumPy is the primary array programming library for the Python language. It has an essential role in research analysis pipelines in fields as diverse as physics, chemistry, astronomy, geoscience, biology, psychology, materials science, engineering, finance and economics. For example, in astronomy, NumPy was an important part of the software stack used in the discovery of gravitational waves1 and in the first imaging of a black hole2. Here we review how a few fundamental array concepts lead to a simple and powerful programming paradigm for organizing, exploring and analysing scientific data. NumPy is the foundation upon which the scientific Python ecosystem is constructed. It is so pervasive that several projects, targeting audiences with specialized needs, have developed their own NumPy-like interfaces and array objects. Owing to its central position in the ecosystem, NumPy increasingly acts as an interoperability layer between such array computation libraries and, together with its application programming interface (API), provides a flexible framework to support the next decade of scientific and industrial analysis.\n",
      "SN  - 1476-4687\n",
      "UR  - https://doi.org/10.1038/s41586-020-2649-2\n",
      "DO  - 10.1038/s41586-020-2649-2\n",
      "ID  - Harris2020\n",
      "ER  - \n",
      "\n"
     ]
    }
   ],
   "source": [
    "# Run but do not modify this code\n",
    "with open(\"numpy_nature.txt\") as f:\n",
    "    cite = f.read()\n",
    "\n",
    "print(cite)"
   ]
  },
  {
   "cell_type": "markdown",
   "metadata": {
    "tags": []
   },
   "source": [
    "### Question 1 (4 points)\n",
    "There are several authors, each recorded on a separate line beginning with `AU`. Create a Python list of all of the author names formatted as in the file but without the extra characters and whitespace (i.e., without the `AU  - ` or the newline `\\n` characters). Your list should be of the form `['Harris, Charles R.', 'Millman, K. Jarrod', ..., 'Oliphant, Travis E.']`. When you are finished, print the resulting list. "
   ]
  },
  {
   "cell_type": "code",
   "execution_count": 3,
   "metadata": {
    "scrolled": true
   },
   "outputs": [
    {
     "name": "stdout",
     "output_type": "stream",
     "text": [
      "['Harris, Charles R.', 'Millman, K. Jarrod', 'van der Walt, StÃ©fan J.', 'Gommers, Ralf', 'Virtanen, Pauli', 'Cournapeau, David', 'Wieser, Eric', 'Taylor, Julian', 'Berg, Sebastian', 'Smith, Nathaniel J.', 'Kern, Robert', 'Picus, Matti', 'Hoyer, Stephan', 'van Kerkwijk, Marten H.', 'Brett, Matthew', 'Haldane, Allan', 'del RÃ\\xado, Jaime FernÃ¡ndez', 'Wiebe, Mark', 'Peterson, Pearu', 'GÃ©rard-Marchant, Pierre', 'Sheppard, Kevin', 'Reddy, Tyler', 'Weckesser, Warren', 'Abbasi, Hameer', 'Gohlke, Christoph', 'Oliphant, Travis E.']\n"
     ]
    }
   ],
   "source": [
    "import re\n",
    "# Put your code to answer the question here, and store the answer as the following variable\n",
    "# Please keep author names in the original order\n",
    "query = re.compile(r\"AU  - +.+\")\n",
    "list1 = re.findall(query,cite)\n",
    "list2=[]\n",
    "for element in list1:\n",
    "    list2.append(element.replace(\"AU  - \",\"\"))\n",
    "q1 = list2 # List of Authors\n",
    "\n",
    "print(q1)"
   ]
  },
  {
   "cell_type": "markdown",
   "metadata": {
    "tags": []
   },
   "source": [
    "### Question 2 (4 points)\n",
    "Create a Pandas DataFrame that contains three columns: one for first names, one for middle names, and one for last names for all of the authors. You should use descriptive column names, but you can use the default primary index (the row labels) of 0, 1, 2, etc. The table's rows should be in the same order as the original data set. Thus, the first few rows of your dataframe might look like the table pictured below. You are welcome to use the results of the prior question to asnwer this problem.\n",
    "\n",
    "|      | first      | middle     | last         |\n",
    "| ---- | ---------- | ---------- | ------------ |\n",
    "| 0\t   | Charles    | R.         | Harris       |\n",
    "| 1\t   | K.\t        | Jarrod     | Millman      |\n",
    "| 2\t   | Stéfan     | J.         | van der Walt |\n",
    "| 3    | Ralf       |            | Gommers      |\n",
    "| 4\t   | Pauli      |            | Virtanen     |   \n",
    "\n",
    "Note that some authors do not have any middle names, in which case you can leave the middle name column blank. When you are finished, display the first 10 rows of the resulting dataframe by calling `pd.head(10)` (where Pandas has been imported as `pd`)."
   ]
  },
  {
   "cell_type": "code",
   "execution_count": 4,
   "metadata": {},
   "outputs": [],
   "source": [
    "# Run but do not modify this code\n",
    "import pandas as pd"
   ]
  },
  {
   "cell_type": "code",
   "execution_count": 5,
   "metadata": {},
   "outputs": [
    {
     "data": {
      "text/html": [
       "<div>\n",
       "<style scoped>\n",
       "    .dataframe tbody tr th:only-of-type {\n",
       "        vertical-align: middle;\n",
       "    }\n",
       "\n",
       "    .dataframe tbody tr th {\n",
       "        vertical-align: top;\n",
       "    }\n",
       "\n",
       "    .dataframe thead th {\n",
       "        text-align: right;\n",
       "    }\n",
       "</style>\n",
       "<table border=\"1\" class=\"dataframe\">\n",
       "  <thead>\n",
       "    <tr style=\"text-align: right;\">\n",
       "      <th></th>\n",
       "      <th>first</th>\n",
       "      <th>middle</th>\n",
       "      <th>last</th>\n",
       "    </tr>\n",
       "  </thead>\n",
       "  <tbody>\n",
       "    <tr>\n",
       "      <th>0</th>\n",
       "      <td>Charles</td>\n",
       "      <td>R.</td>\n",
       "      <td>Harris</td>\n",
       "    </tr>\n",
       "    <tr>\n",
       "      <th>1</th>\n",
       "      <td>K.</td>\n",
       "      <td>Jarrod</td>\n",
       "      <td>Millman</td>\n",
       "    </tr>\n",
       "    <tr>\n",
       "      <th>2</th>\n",
       "      <td>StÃ©fan</td>\n",
       "      <td>J.</td>\n",
       "      <td>van der Walt</td>\n",
       "    </tr>\n",
       "    <tr>\n",
       "      <th>3</th>\n",
       "      <td>Ralf</td>\n",
       "      <td></td>\n",
       "      <td>Gommers</td>\n",
       "    </tr>\n",
       "    <tr>\n",
       "      <th>4</th>\n",
       "      <td>Pauli</td>\n",
       "      <td></td>\n",
       "      <td>Virtanen</td>\n",
       "    </tr>\n",
       "    <tr>\n",
       "      <th>5</th>\n",
       "      <td>David</td>\n",
       "      <td></td>\n",
       "      <td>Cournapeau</td>\n",
       "    </tr>\n",
       "    <tr>\n",
       "      <th>6</th>\n",
       "      <td>Eric</td>\n",
       "      <td></td>\n",
       "      <td>Wieser</td>\n",
       "    </tr>\n",
       "    <tr>\n",
       "      <th>7</th>\n",
       "      <td>Julian</td>\n",
       "      <td></td>\n",
       "      <td>Taylor</td>\n",
       "    </tr>\n",
       "    <tr>\n",
       "      <th>8</th>\n",
       "      <td>Sebastian</td>\n",
       "      <td></td>\n",
       "      <td>Berg</td>\n",
       "    </tr>\n",
       "    <tr>\n",
       "      <th>9</th>\n",
       "      <td>Nathaniel</td>\n",
       "      <td>J.</td>\n",
       "      <td>Smith</td>\n",
       "    </tr>\n",
       "  </tbody>\n",
       "</table>\n",
       "</div>"
      ],
      "text/plain": [
       "       first  middle          last\n",
       "0    Charles      R.        Harris\n",
       "1         K.  Jarrod       Millman\n",
       "2    StÃ©fan      J.  van der Walt\n",
       "3       Ralf               Gommers\n",
       "4      Pauli              Virtanen\n",
       "5      David            Cournapeau\n",
       "6       Eric                Wieser\n",
       "7     Julian                Taylor\n",
       "8  Sebastian                  Berg\n",
       "9  Nathaniel      J.         Smith"
      ]
     },
     "execution_count": 5,
     "metadata": {},
     "output_type": "execute_result"
    }
   ],
   "source": [
    "import re\n",
    "import numpy as np\n",
    "# Put your code to answer the question here, and store the answer as the following variable\n",
    "# Please keep author names in the original order \n",
    "df = pd.DataFrame({\"first\":name.split(\" \")[-2] if len(name.split(\" \"))>2 else name.split(\" \")[-1] ,\"middle\": name.split(\" \")[-1] if len(name.split(\" \"))>2 else \"\" ,\"last\":name.split(\",\")[0]} for name in list2)\n",
    "\n",
    "\n",
    "\n",
    "\n",
    "q2 = df # Pandas DataFrame with three columns\n",
    "\n",
    "df.head(10)\n"
   ]
  },
  {
   "cell_type": "markdown",
   "metadata": {
    "tags": []
   },
   "source": [
    "### Question 3 (12 points)\n",
    "Below we extract the abstract from the citation and store it in a string variable `abstract`. Write regular expressions to answer the following questions about the abstract.\n",
    "\n",
    "1. Print the starting index of everywhere `NumPy` appears in the abstract (i.e., the index of the `N` wherever `NumPy` occurs in the `abstract` string). This should be case sensitive.\n",
    "2. Print all of the capitalized words in `abstract`, including words with extra capitalized letters like `NumPy`.\n",
    "3. Print all of the words that immediately follow `NumPy`, but do not include the word `NumPy` itself. Note that in one occurrence it is hyphenated `NumPy-like`, in which case your code can return `-like` or `like` as you prefer."
   ]
  },
  {
   "cell_type": "code",
   "execution_count": 6,
   "metadata": {},
   "outputs": [
    {
     "name": "stdout",
     "output_type": "stream",
     "text": [
      "Array programming provides a powerful, compact and expressive syntax for accessing, manipulating and operating on data in vectors, matrices and higher-dimensional arrays. NumPy is the primary array programming library for the Python language. It has an essential role in research analysis pipelines in fields as diverse as physics, chemistry, astronomy, geoscience, biology, psychology, materials science, engineering, finance and economics. For example, in astronomy, NumPy was an important part of the software stack used in the discovery of gravitational waves1 and in the first imaging of a black hole2. Here we review how a few fundamental array concepts lead to a simple and powerful programming paradigm for organizing, exploring and analysing scientific data. NumPy is the foundation upon which the scientific Python ecosystem is constructed. It is so pervasive that several projects, targeting audiences with specialized needs, have developed their own NumPy-like interfaces and array objects. Owing to its central position in the ecosystem, NumPy increasingly acts as an interoperability layer between such array computation libraries and, together with its application programming interface (API), provides a flexible framework to support the next decade of scientific and industrial analysis.\n"
     ]
    }
   ],
   "source": [
    "# Run but do not modify this code\n",
    "import re\n",
    "abstract_query = re.compile(r\"AB  - (.+)\")\n",
    "abstract = re.search(abstract_query, cite).group(1)\n",
    "print(abstract)"
   ]
  },
  {
   "cell_type": "code",
   "execution_count": 18,
   "metadata": {},
   "outputs": [
    {
     "data": {
      "text/plain": [
       "[]"
      ]
     },
     "execution_count": 18,
     "metadata": {},
     "output_type": "execute_result"
    }
   ],
   "source": [
    "# Put your code to answer the question here, and store the answer as the following variable\n",
    "# Please allow duplication in your list\n",
    "\n",
    "q3_1 = [word.start(0)+1 for word in re.finditer(re.compile(r\"( +NumPy[- ]+)\"),abstract)]  # List of index\n",
    "\n",
    "#\n",
    "q3_2 = re.findall(re.compile(r\"([A-Z]+[- ]\\w+)\"),abstract)# List of all the capitalized words\n",
    "\n",
    "\n",
    "q3_3 = re.findall(re.compile(r\"NumPy+(?:[ -])+([A-Za-z]+)\"),abstract) # List of words that immediately follow Numpy\n",
    "\n",
    "\n",
    "q3_2\n"
   ]
  },
  {
   "cell_type": "markdown",
   "metadata": {},
   "source": [
    "## Part 2: Cleaning up more system logs CSV\n",
    "In this part we work with a piece of messy tabular data in the form of a poorly formatted csv file containing data about programs running on computer systems. It contains all of the data about system time and memory from Practice 3, but also includes new information about user ids and machine ids, and some data are missing in every column. (The user ids are made up and do not correspond to any real individuals).  "
   ]
  },
  {
   "cell_type": "markdown",
   "metadata": {},
   "source": [
    "### Question 4 (12 points)\n",
    "Below, we import the dataset using the Pandas `read_csv` function that creates a dataframe. Run the code; it will preview the first five rows. "
   ]
  },
  {
   "cell_type": "code",
   "execution_count": 8,
   "metadata": {},
   "outputs": [
    {
     "data": {
      "text/html": [
       "<div>\n",
       "<style scoped>\n",
       "    .dataframe tbody tr th:only-of-type {\n",
       "        vertical-align: middle;\n",
       "    }\n",
       "\n",
       "    .dataframe tbody tr th {\n",
       "        vertical-align: top;\n",
       "    }\n",
       "\n",
       "    .dataframe thead th {\n",
       "        text-align: right;\n",
       "    }\n",
       "</style>\n",
       "<table border=\"1\" class=\"dataframe\">\n",
       "  <thead>\n",
       "    <tr style=\"text-align: right;\">\n",
       "      <th></th>\n",
       "      <th>System Time second</th>\n",
       "      <th>System Memory GB</th>\n",
       "      <th>System Memory MB</th>\n",
       "      <th>System User ID</th>\n",
       "      <th>System Machine ID</th>\n",
       "    </tr>\n",
       "  </thead>\n",
       "  <tbody>\n",
       "    <tr>\n",
       "      <th>0</th>\n",
       "      <td>?</td>\n",
       "      <td>?</td>\n",
       "      <td>?</td>\n",
       "      <td>User ID: yw22</td>\n",
       "      <td>Machine ID: Carrot</td>\n",
       "    </tr>\n",
       "    <tr>\n",
       "      <th>1</th>\n",
       "      <td>System Time: 40 second</td>\n",
       "      <td>System Mem: 3 Gb</td>\n",
       "      <td>382 Mb</td>\n",
       "      <td>?</td>\n",
       "      <td>?</td>\n",
       "    </tr>\n",
       "    <tr>\n",
       "      <th>2</th>\n",
       "      <td>?</td>\n",
       "      <td>System Mem: 2 Gb</td>\n",
       "      <td>271 Mb</td>\n",
       "      <td>User ID: tp7</td>\n",
       "      <td>Machine ID: Asparagus</td>\n",
       "    </tr>\n",
       "    <tr>\n",
       "      <th>3</th>\n",
       "      <td>System Time: 31 second</td>\n",
       "      <td>System Mem: 3 Gb</td>\n",
       "      <td>493 Mb</td>\n",
       "      <td>?</td>\n",
       "      <td>Machine ID: Eggplant</td>\n",
       "    </tr>\n",
       "    <tr>\n",
       "      <th>4</th>\n",
       "      <td>System Time: 37 second</td>\n",
       "      <td>System Mem: 3 Gb</td>\n",
       "      <td>411 Mb</td>\n",
       "      <td>?</td>\n",
       "      <td>Machine ID: Asparagus</td>\n",
       "    </tr>\n",
       "  </tbody>\n",
       "</table>\n",
       "</div>"
      ],
      "text/plain": [
       "       System Time second   System Memory GB System Memory MB System User ID  \\\n",
       "0                       ?                  ?                ?  User ID: yw22   \n",
       "1  System Time: 40 second   System Mem: 3 Gb           382 Mb              ?   \n",
       "2                       ?   System Mem: 2 Gb           271 Mb   User ID: tp7   \n",
       "3  System Time: 31 second   System Mem: 3 Gb           493 Mb              ?   \n",
       "4  System Time: 37 second   System Mem: 3 Gb           411 Mb              ?   \n",
       "\n",
       "       System Machine ID  \n",
       "0     Machine ID: Carrot  \n",
       "1                      ?  \n",
       "2  Machine ID: Asparagus  \n",
       "3   Machine ID: Eggplant  \n",
       "4  Machine ID: Asparagus  "
      ]
     },
     "execution_count": 8,
     "metadata": {},
     "output_type": "execute_result"
    }
   ],
   "source": [
    "# Run but do not modify this code\n",
    "import pandas as pd\n",
    "import numpy as np\n",
    "sys_df = pd.read_csv(\"more_monitor.csv\")\n",
    "sys_df.head()"
   ]
  },
  {
   "cell_type": "markdown",
   "metadata": {},
   "source": [
    "There are several formatting issues with the default import. Address the following.\n",
    "\n",
    "1. The `System User ID` and `System Machine ID` contain String data with the redundant information `User ID: ` and `Machine ID: ` in every row that has data. Remove these prefixes so that the columns only contain the user ids and machine ids themselves (for example, the first row should just have `yw22` in the `System User ID` column and `Carrot` in the `System Machine ID` column. \n",
    "2. The first three rows for `System Time second`, `System Memory GB` and `System Memory MB` contain numerical data but are currently formatted as strings with redundant prefix information repeating the column label and missing data represented as the string `?` instead of the Numpy `NaN` sentinel value. Fix this so that each value in the first three columns is either a single numerical value or `NaN` (note, you should use the actual `np.NaN` sentinal value, not just the String with the characters `N`, `a`, and `N`). For example, when you are done, the first three columns of the first row should all have `NaN` values, the second row should be `40`, `3`, and `382`, and so on. Note that the rows at index `400` and on have System Time recorded in minutes instead of seconds, be sure to convert these to seconds by mulitplying by 60.\n",
    "3. Currently the System Memory is split accross two columns, one for the GB and one for the MB. For example, the total memory of the first program is 3 GB and 414 MB. Instead, represent the full system memory in the `System Memory GB` column, and get rid of the `System Memory MB` column. To do so, you need to convert the values in the MB column to GB (1 MB is 0.001 GB) and add that to the GB column, then use the [`drop` method](https://pandas.pydata.org/pandas-docs/stable/reference/api/pandas.DataFrame.drop.html). Missing values should remain missing after this transformation.\n",
    "\n",
    "When you are finished, `sys_df` should have the above issues corrected. Run both of the cells with `sys_df.head()` and `sys_df.tail()` to show the first and last few rows of your dataframe."
   ]
  },
  {
   "cell_type": "code",
   "execution_count": 9,
   "metadata": {},
   "outputs": [
    {
     "name": "stdout",
     "output_type": "stream",
     "text": [
      "   System Time second  System Memory GB System User ID System Machine ID\n",
      "0                 NaN               NaN           yw22            Carrot\n",
      "1                40.0             3.382              ?                 ?\n",
      "2                 NaN             2.271            tp7         Asparagus\n",
      "3                31.0             3.493              ?          Eggplant\n",
      "4                37.0             3.411              ?         Asparagus\n",
      "     System Time second  System Memory GB System User ID System Machine ID\n",
      "995              1860.0             2.258            zm3         Asparagus\n",
      "996              1860.0             3.403            bk4                 ?\n",
      "997              2160.0             3.350           yw22            Carrot\n",
      "998              2640.0             3.366           yw22         Asparagus\n",
      "999              1200.0             3.490            bk4         Asparagus\n"
     ]
    },
    {
     "name": "stderr",
     "output_type": "stream",
     "text": [
      "<ipython-input-9-7c29d5a37544>:16: SettingWithCopyWarning: \n",
      "A value is trying to be set on a copy of a slice from a DataFrame\n",
      "\n",
      "See the caveats in the documentation: https://pandas.pydata.org/pandas-docs/stable/user_guide/indexing.html#returning-a-view-versus-a-copy\n",
      "  newData[\"System Time second\"][400:] = newData[\"System Time second\"][400:]*60\n",
      "C:\\Users\\brady\\anaconda3\\lib\\site-packages\\pandas\\core\\indexing.py:670: SettingWithCopyWarning: \n",
      "A value is trying to be set on a copy of a slice from a DataFrame\n",
      "\n",
      "See the caveats in the documentation: https://pandas.pydata.org/pandas-docs/stable/user_guide/indexing.html#returning-a-view-versus-a-copy\n",
      "  iloc._setitem_with_indexer(indexer, value)\n"
     ]
    }
   ],
   "source": [
    "# Put your code to answer the question here, and store sys_df = q4 for full credit\n",
    "\n",
    "newData= sys_df.copy()\n",
    "\n",
    "#Question 1\n",
    "newData[\"System User ID\"]= newData[\"System User ID\"].str.replace(\"User ID: \",\"\")\n",
    "newData[\"System Machine ID\"]= newData[\"System Machine ID\"].str.replace(\"Machine ID: \",\"\")\n",
    "\n",
    "#Question 2\n",
    "newData[\"System Time second\"]= newData[\"System Time second\"].str.replace(\"System Time: \",\"\")\n",
    "newData[\"System Time second\"]= newData[\"System Time second\"].str.replace(\"second\",\"\")\n",
    "newData[\"System Time second\"]= newData[\"System Time second\"].str.replace(\"minute\",\"\")\n",
    "newData[\"System Time second\"]= newData[\"System Time second\"].str.replace(\"?\",\"0\") #FIX this line of code\n",
    "newData[\"System Time second\"]= newData[\"System Time second\"].astype(int)\n",
    "newData[\"System Time second\"]= newData[\"System Time second\"].replace(0,np.nan)\n",
    "newData[\"System Time second\"][400:] = newData[\"System Time second\"][400:]*60\n",
    "\n",
    "newData[\"System Memory GB\"]= newData[\"System Memory GB\"].str.replace(\"System Mem: \",\"\")\n",
    "newData[\"System Memory GB\"]= newData[\"System Memory GB\"].str.replace(\"Gb\",\"\")\n",
    "newData[\"System Memory GB\"]= newData[\"System Memory GB\"].str.replace(\"?\",\"0\") #FIX this line of code\n",
    "newData[\"System Memory GB\"]= newData[\"System Memory GB\"].astype(int)\n",
    "newData[\"System Memory GB\"]= newData[\"System Memory GB\"].replace(0,np.nan)\n",
    "\n",
    "newData[\"System Memory MB\"]= newData[\"System Memory MB\"].str.replace(\"Mb\",\"\")\n",
    "newData[\"System Memory MB\"]= newData[\"System Memory MB\"].str.replace(\"?\",\"0\") #FIX this line of code\n",
    "newData[\"System Memory MB\"]= newData[\"System Memory MB\"].astype(int)\n",
    "newData[\"System Memory MB\"]= newData[\"System Memory MB\"].replace(0,np.nan)\n",
    "\n",
    "\n",
    "#Question 3\n",
    "newData[\"System Memory GB\"]= newData[\"System Memory GB\"] + newData[\"System Memory MB\"]/1000\n",
    "newData.drop(\"System Memory MB\", inplace = True, axis =1 )\n",
    "\n",
    "...\n",
    "\n",
    "sys_df = newData\n",
    "\n",
    "q4 = sys_df\n",
    "\n",
    "\n",
    "\n",
    "\n",
    "# Run but do not modify this code\n",
    "print(sys_df.head())\n",
    "\n",
    "# Run but do not modify this code\n",
    "print(sys_df.tail())"
   ]
  },
  {
   "cell_type": "markdown",
   "metadata": {},
   "source": [
    "### Question 5 (12 points)\n",
    "The `sys_df` dataframe from question 3 should now be a little easier to read and use. Answer the following questions about `sys_df`.\n",
    "\n",
    "1. How many rows are missing data in the `System Machine ID` column?\n",
    "2. What is the average value of `System Memory GB` among the rows that are missing data in the `System User ID` column? \n",
    "3. How many rows are missing data in both the `System Time second` and `System Memory GB` columns?\n",
    "\n",
    "Note: It is not necessary to complete all of question 4 in order to answer some of these questions, and we will also look at your code for partial credit."
   ]
  },
  {
   "cell_type": "code",
   "execution_count": 10,
   "metadata": {},
   "outputs": [
    {
     "data": {
      "text/plain": [
       "69"
      ]
     },
     "execution_count": 10,
     "metadata": {},
     "output_type": "execute_result"
    }
   ],
   "source": [
    "# Put your code to answer the question here, and store answers as the following variables\n",
    "newData[\"System Machine ID\"]= newData[\"System Machine ID\"].replace(\"?\", np.nan)\n",
    "newData[\"System User ID\"]= newData[\"System User ID\"].replace(\"?\", np.nan)\n",
    "\n",
    "q5_1 = len(q4.index)-len(q4[\"System Machine ID\"].dropna().index) # number of rows\n",
    "q5_2 = newData.loc[newData[\"System User ID\"].isnull()][\"System Memory GB\"].mean()# average System Memory GB\n",
    "\n",
    "q5_3 = len(newData.loc[newData[\"System Time second\"].isnull() & newData[\"System Memory GB\"].isnull()])\n",
    "\n",
    "q5_3"
   ]
  },
  {
   "cell_type": "markdown",
   "metadata": {},
   "source": [
    "## Part 3: Wrangling FDA JSON Dataset \n",
    "In this part we work with a messy JSON dataset containing information about several drugs labels."
   ]
  },
  {
   "cell_type": "markdown",
   "metadata": {},
   "source": [
    "### Question 6 (12 points)\n",
    "Below we import the `FDADrugLabel.json` file into the `labels` variable. This is the same dataset as the practice. The resulting Python object is somewhat messy; we encourage you to explore the data before answering the questions."
   ]
  },
  {
   "cell_type": "code",
   "execution_count": 11,
   "metadata": {
    "tags": []
   },
   "outputs": [
    {
     "data": {
      "text/plain": [
       "{'package_label_principal_display_panel': ['label'],\n",
       " 'active_ingredient': 'titanium dioxide',\n",
       " 'warnings': ['1. Do not use in the following cases(Eczema and scalp wounds) 2.Side Effects 1)Due to the use of this druf if rash, irritation, itching and symptopms of hypersnesitivity occur dicontinue use and consult your phamacisr or doctor 3.General Precautions 1)If in contact with the eyes, wash out thoroughty with water If the symptoms are servere, seek medical advice immediately 2)This product is for exeternal use only. Do not use for internal use 4.Storage and handling precautions 1)If possible, avoid direct sunlight and store in cool and area of low humidity 2)In order to maintain the quality of the product and avoid misuse 3)Avoid placing the product near fire and store out in reach of children'],\n",
       " 'inactive_ingredient': 'butylene glycol, water, etc',\n",
       " 'drug_interactions': '',\n",
       " 'effective_time': '20160321',\n",
       " 'openfda': {'manufacturer_name': 'Nature and Health Beauty Co., Ltd.',\n",
       "  'unii': ['T5L8T28FGP', 'PDC6A3C0OX'],\n",
       "  'product_type': 'HUMAN OTC DRUG',\n",
       "  'spl_set_id': ['2ea9b21c-18e6-0a8a-e054-00144ff8d46c'],\n",
       "  'route': 'TOPICAL',\n",
       "  'generic_name': 'MINERAL OIL',\n",
       "  'brand_name': 'Nature and Health Beauty (Moisturizing Cream, Whitening Cream) (Mineral Oil and Glycerin)',\n",
       "  'pharm_class_cs': ['Glycerol [Chemical/Ingredient]',\n",
       "   'Allergens [Chemical/Ingredient]'],\n",
       "  'pharm_class_pe': ['Cell-mediated Immunity [PE]',\n",
       "   'Increased IgG Production [PE]',\n",
       "   'Increased Histamine Release [PE]'],\n",
       "  'product_ndc': ['69741-3001'],\n",
       "  'pharm_class_epc': ['Non-Standardized Chemical Allergen [EPC]'],\n",
       "  'substance_name': ['GLYCERIN', 'MINERAL OIL'],\n",
       "  'spl_id': ['2ea9b21c-18e7-0a8a-e054-00144ff8d46c'],\n",
       "  'is_original_packager': [True],\n",
       "  'nui': ['N0000185001',\n",
       "   'N0000175629',\n",
       "   'N0000171131',\n",
       "   'N0000185370',\n",
       "   'N0000006566',\n",
       "   'N0000184306'],\n",
       "  'package_ndc': ['69741-3001-1']},\n",
       " 'keep_out_of_reach_of_children': ['keep out of reach of the children'],\n",
       " 'spl_product_data_elements': ['Nature and Health Beauty (Moisturizing Cream, Whitening Cream) (Mineral Oil and Glycerin) mineral oil MINERAL OIL MINERAL OIL GLYCERIN GLYCERIN WATER'],\n",
       " 'set_id': '2ea9b21c-18e6-0a8a-e054-00144ff8d46c',\n",
       " 'dosage_and_administration': ['for external use only'],\n",
       " 'version': '1',\n",
       " 'purpose': ['for skin protectant'],\n",
       " 'id': '2ea9b21c-18e7-0a8a-e054-00144ff8d46c',\n",
       " 'indications_and_usage': ['apply proper amount to the skin']}"
      ]
     },
     "execution_count": 11,
     "metadata": {},
     "output_type": "execute_result"
    }
   ],
   "source": [
    "# Run but do not modify this code\n",
    "import json\n",
    "with open(\"FDADrugLabel.json\", encoding ='utf-8') as f:\n",
    "    labels = json.load(f)\n",
    "\n",
    "labels[0]"
   ]
  },
  {
   "cell_type": "code",
   "execution_count": 12,
   "metadata": {},
   "outputs": [],
   "source": [
    "# Use this cell to explore (and you are welcome to add more cells as needed)\n"
   ]
  },
  {
   "cell_type": "markdown",
   "metadata": {},
   "source": [
    "Answer the following questions.\n",
    "\n",
    "1. Print the average number of key/value (or name/value) pairs for the drugs.\n",
    "2. Print the list of all of the `manufacturer_names` without any other information. `manufacturer_names` are not a top level key/name, you will need to search for where they are located and how to extract them.\n",
    "3. Print how many drugs contain the string `child` anywhere in their `warnings` (including as part of larger strings like `children`). `warnings` is a top level key/name, but some drugs are missing this data and the information is contained in strings within lists of length 1. "
   ]
  },
  {
   "cell_type": "code",
   "execution_count": 19,
   "metadata": {
    "scrolled": true,
    "tags": []
   },
   "outputs": [
    {
     "data": {
      "text/plain": [
       "19.25"
      ]
     },
     "execution_count": 19,
     "metadata": {},
     "output_type": "execute_result"
    }
   ],
   "source": [
    "# Put your code to answer the question here, and store answers as the following variables\n",
    "\n",
    "#Checkkkkkk\n",
    "pairs =0\n",
    "for value in range(0,len(labels)):\n",
    "    pairs += len(labels[value])\n",
    "\n",
    "q6_1 = pairs/len(labels)# number of rows\n",
    "\n",
    "\n",
    "totalmanufacturers = []\n",
    "for value in range(0,len(labels)):\n",
    "    totalmanufacturers.append(labels[value][\"openfda\"][\"manufacturer_name\"])\n",
    "    \n",
    "q6_2 = totalmanufacturers # average System Memory GB\n",
    "\n",
    "child =0\n",
    "for value in range(0,len(labels)):\n",
    "    if \"warnings\" in labels[value]:\n",
    "        for value2 in labels[value][\"warnings\"]:\n",
    "            if \"child\" in value2:\n",
    "                child+=1\n",
    "        \n",
    "        \n",
    "        \n",
    "q6_3 = child# number of missing rows\n",
    "\n",
    "q6_1"
   ]
  }
 ],
 "metadata": {
  "kernelspec": {
   "display_name": "Python 3",
   "language": "python",
   "name": "python3"
  },
  "language_info": {
   "codemirror_mode": {
    "name": "ipython",
    "version": 3
   },
   "file_extension": ".py",
   "mimetype": "text/x-python",
   "name": "python",
   "nbconvert_exporter": "python",
   "pygments_lexer": "ipython3",
   "version": "3.8.5"
  }
 },
 "nbformat": 4,
 "nbformat_minor": 4
}
